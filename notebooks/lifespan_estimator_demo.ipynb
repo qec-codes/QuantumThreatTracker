{
 "cells": [
  {
   "cell_type": "markdown",
   "metadata": {},
   "source": [
    "Notebook to showcase usage of the `HardwareRoadmap` and `LifespanEstimator` modules."
   ]
  },
  {
   "cell_type": "markdown",
   "metadata": {},
   "source": [
    "A `HardwareRoadmap` is essentially a projection of where we expect quantum computing hardware to be at specific timepoints in the future.\n",
    "\n",
    "The `LifespanEstimator` takes resource estimates for breaking certain cryptographic protocols, and compares them with entries in the `HardwareRoadmap` in an attempt to predict when in the future we expect the protocols to be broken. It is the module which will produce the core output of the quantum threat tracker."
   ]
  },
  {
   "cell_type": "code",
   "execution_count": null,
   "metadata": {},
   "outputs": [
    {
     "data": {
      "application/javascript": "// Copyright (c) Microsoft Corporation.\n// Licensed under the MIT License.\n\n// This file provides CodeMirror syntax highlighting for Q# magic cells\n// in classic Jupyter Notebooks. It does nothing in other (Jupyter Notebook 7,\n// VS Code, Azure Notebooks, etc.) environments.\n\n// Detect the prerequisites and do nothing if they don't exist.\nif (window.require && window.CodeMirror && window.Jupyter) {\n  // The simple mode plugin for CodeMirror is not loaded by default, so require it.\n  window.require([\"codemirror/addon/mode/simple\"], function defineMode() {\n    let rules = [\n      {\n        token: \"comment\",\n        regex: /(\\/\\/).*/,\n        beginWord: false,\n      },\n      {\n        token: \"string\",\n        regex: String.raw`^\\\"(?:[^\\\"\\\\]|\\\\[\\s\\S])*(?:\\\"|$)`,\n        beginWord: false,\n      },\n      {\n        token: \"keyword\",\n        regex: String.raw`(namespace|open|as|operation|function|body|adjoint|newtype|controlled|internal)\\b`,\n        beginWord: true,\n      },\n      {\n        token: \"keyword\",\n        regex: String.raw`(if|elif|else|repeat|until|fixup|for|in|return|fail|within|apply)\\b`,\n        beginWord: true,\n      },\n      {\n        token: \"keyword\",\n        regex: String.raw`(Adjoint|Controlled|Adj|Ctl|is|self|auto|distribute|invert|intrinsic)\\b`,\n        beginWord: true,\n      },\n      {\n        token: \"keyword\",\n        regex: String.raw`(let|set|use|borrow|mutable)\\b`,\n        beginWord: true,\n      },\n      {\n        token: \"operatorKeyword\",\n        regex: String.raw`(not|and|or)\\b|(w/)`,\n        beginWord: true,\n      },\n      {\n        token: \"operatorKeyword\",\n        regex: String.raw`(=)|(!)|(<)|(>)|(\\+)|(-)|(\\*)|(/)|(\\^)|(%)|(\\|)|(&&&)|(~~~)|(\\.\\.\\.)|(\\.\\.)|(\\?)`,\n        beginWord: false,\n      },\n      {\n        token: \"meta\",\n        regex: String.raw`(Int|BigInt|Double|Bool|Qubit|Pauli|Result|Range|String|Unit)\\b`,\n        beginWord: true,\n      },\n      {\n        token: \"atom\",\n        regex: String.raw`(true|false|Pauli(I|X|Y|Z)|One|Zero)\\b`,\n        beginWord: true,\n      },\n    ];\n    let simpleRules = [];\n    for (let rule of rules) {\n      simpleRules.push({\n        token: rule.token,\n        regex: new RegExp(rule.regex, \"g\"),\n        sol: rule.beginWord,\n      });\n      if (rule.beginWord) {\n        // Need an additional rule due to the fact that CodeMirror simple mode doesn't work with ^ token\n        simpleRules.push({\n          token: rule.token,\n          regex: new RegExp(String.raw`\\W` + rule.regex, \"g\"),\n          sol: false,\n        });\n      }\n    }\n\n    // Register the mode defined above with CodeMirror\n    window.CodeMirror.defineSimpleMode(\"qsharp\", { start: simpleRules });\n    window.CodeMirror.defineMIME(\"text/x-qsharp\", \"qsharp\");\n\n    // Tell Jupyter to associate %%qsharp magic cells with the qsharp mode\n    window.Jupyter.CodeCell.options_default.highlight_modes[\"qsharp\"] = {\n      reg: [/^%%qsharp/],\n    };\n\n    // Force re-highlighting of all cells the first time this code runs\n    for (const cell of window.Jupyter.notebook.get_cells()) {\n      cell.auto_highlight();\n    }\n  });\n}\n",
      "text/plain": []
     },
     "metadata": {},
     "output_type": "display_data"
    }
   ],
   "source": [
    "from pathlib import Path\n",
    "\n",
    "from qsharp.estimator import EstimatorParams\n",
    "\n",
    "from quantumthreattracker.lifespan_estimator import HardwareRoadmap, LifespanEstimator"
   ]
  },
  {
   "cell_type": "code",
   "execution_count": 2,
   "metadata": {},
   "outputs": [],
   "source": [
    "roadmap_path = str(Path.cwd().parent) + '/data/hardware_roadmaps'\n",
    "report_path = str(Path.cwd().parent) + '/data/threat_reports'"
   ]
  },
  {
   "cell_type": "markdown",
   "metadata": {},
   "source": [
    "A `HardwareRoadmap` is essentially a list of timestamps, paired with quantum computer specifications, expressed using Q#'s `EstimatorParams` class.\n",
    "\n",
    "In this simple example, our hardware roadmap contains two qubit technologies (superconducting qubits and trapped ions) following Moore's law (the number of qubits in each computer doubles every 2 years)."
   ]
  },
  {
   "cell_type": "code",
   "execution_count": 3,
   "metadata": {},
   "outputs": [],
   "source": [
    "hardware_roadmap = HardwareRoadmap()\n",
    "\n",
    "params_sc = EstimatorParams() # parameters for typical superconducting qubits\n",
    "params_sc.qubit_params.name = \"qubit_gate_ns_e3\"\n",
    "\n",
    "params_ti = EstimatorParams() # parameters for typical trapped ion qubits\n",
    "params_ti.qubit_params.name = \"qubit_gate_us_e4\"\n",
    "\n",
    "for i in range(10, 17):\n",
    "    params_sc.constraints.max_physical_qubits = 1000*(2**i)\n",
    "    params_ti.constraints.max_physical_qubits = 100*(2**i)\n",
    "    hardware_roadmap.add(timestamp=1735689600+63115200*i, estimator_params=[params_sc, params_ti])"
   ]
  },
  {
   "cell_type": "code",
   "execution_count": 4,
   "metadata": {},
   "outputs": [],
   "source": [
    "hardware_roadmap.save_roadmap(file_name='sample_hardware_roadmap', file_path=roadmap_path)"
   ]
  },
  {
   "cell_type": "code",
   "execution_count": 5,
   "metadata": {},
   "outputs": [],
   "source": [
    "lifespan_estimator = LifespanEstimator(hardware_roadmap)"
   ]
  },
  {
   "cell_type": "code",
   "execution_count": 6,
   "metadata": {},
   "outputs": [],
   "source": [
    "protocols = [\n",
    "    {\"algorithm\": \"RSA\", \"keySize\": 8},\n",
    "    {\"algorithm\": \"RSA\", \"keySize\": 16},\n",
    "    {\"algorithm\": \"RSA\", \"keySize\": 32},\n",
    "    {\"algorithm\": \"RSA\", \"keySize\": 64},\n",
    "    {\"algorithm\": \"RSA\", \"keySize\": 128},\n",
    "    {\"algorithm\": \"RSA\", \"keySize\": 256},\n",
    "    {\"algorithm\": \"RSA\", \"keySize\": 512},\n",
    "    {\"algorithm\": \"RSA\", \"keySize\": 1024},\n",
    "    {\"algorithm\": \"RSA\", \"keySize\": 2048},\n",
    "    ]"
   ]
  },
  {
   "cell_type": "markdown",
   "metadata": {},
   "source": [
    "The `generate_report` function saves the threat report as an object in the `LifespanEstimator` instances. This may take a while to run, since it needs to generate quantum resource estimates. (On my machine, this cell takes about 10 minutes to run.)"
   ]
  },
  {
   "cell_type": "code",
   "execution_count": 7,
   "metadata": {},
   "outputs": [],
   "source": [
    "lifespan_estimator.generate_report(protocols=protocols)"
   ]
  },
  {
   "cell_type": "markdown",
   "metadata": {},
   "source": [
    "We can save the report with an additional parameter called `detail_level`. See the saved files to understand what results are included in each detail level.\n",
    "\n",
    "It is important to consider space-time tradeoffs in error-corrected quantum algorithms when reasoning about when a cryptographic protocol will be broken. For example, if RSA-2048 can be factored in the year 2055 in 80 days, but also in the year 2060 in only 8 hours, do we consider it to be broken in 2055 or 2060? The solution we settled on was to output **all** possibilities. Hence, the output of the `LifespanEstimator` lists several 'threats' for each cryptographic protocol."
   ]
  },
  {
   "cell_type": "code",
   "execution_count": 8,
   "metadata": {},
   "outputs": [],
   "source": [
    "lifespan_estimator.save_report(\n",
    "    file_name='sample_threat_report_detail=0',\n",
    "    file_path=report_path,\n",
    "    detail_level=0,\n",
    "    )\n",
    "lifespan_estimator.save_report(\n",
    "    file_name='sample_threat_report_detail=1',\n",
    "    file_path=report_path,\n",
    "    detail_level=1,\n",
    "    )\n",
    "lifespan_estimator.save_report(\n",
    "    file_name='sample_threat_report_detail=2',\n",
    "    file_path=report_path,\n",
    "    detail_level=2,\n",
    "    )\n",
    "lifespan_estimator.save_report(\n",
    "    file_name='sample_threat_report_detail=3',\n",
    "    file_path=report_path,\n",
    "    detail_level=3,\n",
    "    )"
   ]
  }
 ],
 "metadata": {
  "kernelspec": {
   "display_name": ".venv",
   "language": "python",
   "name": "python3"
  },
  "language_info": {
   "codemirror_mode": {
    "name": "ipython",
    "version": 3
   },
   "file_extension": ".py",
   "mimetype": "text/x-python",
   "name": "python",
   "nbconvert_exporter": "python",
   "pygments_lexer": "ipython3",
   "version": "3.12.7"
  }
 },
 "nbformat": 4,
 "nbformat_minor": 2
}
