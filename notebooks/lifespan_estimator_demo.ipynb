{
 "cells": [
  {
   "cell_type": "markdown",
   "metadata": {},
   "source": [
    "Notebook to experiment with the lifespan estimator and assist in its development."
   ]
  },
  {
   "cell_type": "code",
   "execution_count": 1,
   "metadata": {},
   "outputs": [
    {
     "data": {
      "application/javascript": "// Copyright (c) Microsoft Corporation.\n// Licensed under the MIT License.\n\n// This file provides CodeMirror syntax highlighting for Q# magic cells\n// in classic Jupyter Notebooks. It does nothing in other (Jupyter Notebook 7,\n// VS Code, Azure Notebooks, etc.) environments.\n\n// Detect the prerequisites and do nothing if they don't exist.\nif (window.require && window.CodeMirror && window.Jupyter) {\n  // The simple mode plugin for CodeMirror is not loaded by default, so require it.\n  window.require([\"codemirror/addon/mode/simple\"], function defineMode() {\n    let rules = [\n      {\n        token: \"comment\",\n        regex: /(\\/\\/).*/,\n        beginWord: false,\n      },\n      {\n        token: \"string\",\n        regex: String.raw`^\\\"(?:[^\\\"\\\\]|\\\\[\\s\\S])*(?:\\\"|$)`,\n        beginWord: false,\n      },\n      {\n        token: \"keyword\",\n        regex: String.raw`(namespace|open|as|operation|function|body|adjoint|newtype|controlled|internal)\\b`,\n        beginWord: true,\n      },\n      {\n        token: \"keyword\",\n        regex: String.raw`(if|elif|else|repeat|until|fixup|for|in|return|fail|within|apply)\\b`,\n        beginWord: true,\n      },\n      {\n        token: \"keyword\",\n        regex: String.raw`(Adjoint|Controlled|Adj|Ctl|is|self|auto|distribute|invert|intrinsic)\\b`,\n        beginWord: true,\n      },\n      {\n        token: \"keyword\",\n        regex: String.raw`(let|set|use|borrow|mutable)\\b`,\n        beginWord: true,\n      },\n      {\n        token: \"operatorKeyword\",\n        regex: String.raw`(not|and|or)\\b|(w/)`,\n        beginWord: true,\n      },\n      {\n        token: \"operatorKeyword\",\n        regex: String.raw`(=)|(!)|(<)|(>)|(\\+)|(-)|(\\*)|(/)|(\\^)|(%)|(\\|)|(&&&)|(~~~)|(\\.\\.\\.)|(\\.\\.)|(\\?)`,\n        beginWord: false,\n      },\n      {\n        token: \"meta\",\n        regex: String.raw`(Int|BigInt|Double|Bool|Qubit|Pauli|Result|Range|String|Unit)\\b`,\n        beginWord: true,\n      },\n      {\n        token: \"atom\",\n        regex: String.raw`(true|false|Pauli(I|X|Y|Z)|One|Zero)\\b`,\n        beginWord: true,\n      },\n    ];\n    let simpleRules = [];\n    for (let rule of rules) {\n      simpleRules.push({\n        token: rule.token,\n        regex: new RegExp(rule.regex, \"g\"),\n        sol: rule.beginWord,\n      });\n      if (rule.beginWord) {\n        // Need an additional rule due to the fact that CodeMirror simple mode doesn't work with ^ token\n        simpleRules.push({\n          token: rule.token,\n          regex: new RegExp(String.raw`\\W` + rule.regex, \"g\"),\n          sol: false,\n        });\n      }\n    }\n\n    // Register the mode defined above with CodeMirror\n    window.CodeMirror.defineSimpleMode(\"qsharp\", { start: simpleRules });\n    window.CodeMirror.defineMIME(\"text/x-qsharp\", \"qsharp\");\n\n    // Tell Jupyter to associate %%qsharp magic cells with the qsharp mode\n    window.Jupyter.CodeCell.options_default.highlight_modes[\"qsharp\"] = {\n      reg: [/^%%qsharp/],\n    };\n\n    // Force re-highlighting of all cells the first time this code runs\n    for (const cell of window.Jupyter.notebook.get_cells()) {\n      cell.auto_highlight();\n    }\n  });\n}\n",
      "text/plain": []
     },
     "metadata": {},
     "output_type": "display_data"
    }
   ],
   "source": [
    "from qsharp.estimator import EstimatorParams\n",
    "\n",
    "from quantumthreattracker.lifespan_estimator.lifespan_estimator import (\n",
    "    HardwareRoadmap,\n",
    "    LifespanEstimator,\n",
    ")"
   ]
  },
  {
   "cell_type": "code",
   "execution_count": 2,
   "metadata": {},
   "outputs": [
    {
     "data": {
      "text/plain": [
       "[{'timestamp': 2025,\n",
       "  'hardwareList': [{'estimatorParams': {'qubitParams': {'name': 'qubit_gate_ns_e3'},\n",
       "     'constraints': {'maxPhysicalQubits': 1000}}},\n",
       "   {'estimatorParams': {'qubitParams': {'name': 'qubit_gate_us_e4'},\n",
       "     'constraints': {'maxPhysicalQubits': 100}}}]},\n",
       " {'timestamp': 2027,\n",
       "  'hardwareList': [{'estimatorParams': {'qubitParams': {'name': 'qubit_gate_ns_e3'},\n",
       "     'constraints': {'maxPhysicalQubits': 2000}}},\n",
       "   {'estimatorParams': {'qubitParams': {'name': 'qubit_gate_us_e4'},\n",
       "     'constraints': {'maxPhysicalQubits': 200}}}]},\n",
       " {'timestamp': 2029,\n",
       "  'hardwareList': [{'estimatorParams': {'qubitParams': {'name': 'qubit_gate_ns_e3'},\n",
       "     'constraints': {'maxPhysicalQubits': 4000}}},\n",
       "   {'estimatorParams': {'qubitParams': {'name': 'qubit_gate_us_e4'},\n",
       "     'constraints': {'maxPhysicalQubits': 400}}}]},\n",
       " {'timestamp': 2031,\n",
       "  'hardwareList': [{'estimatorParams': {'qubitParams': {'name': 'qubit_gate_ns_e3'},\n",
       "     'constraints': {'maxPhysicalQubits': 8000}}},\n",
       "   {'estimatorParams': {'qubitParams': {'name': 'qubit_gate_us_e4'},\n",
       "     'constraints': {'maxPhysicalQubits': 800}}}]},\n",
       " {'timestamp': 2033,\n",
       "  'hardwareList': [{'estimatorParams': {'qubitParams': {'name': 'qubit_gate_ns_e3'},\n",
       "     'constraints': {'maxPhysicalQubits': 16000}}},\n",
       "   {'estimatorParams': {'qubitParams': {'name': 'qubit_gate_us_e4'},\n",
       "     'constraints': {'maxPhysicalQubits': 1600}}}]},\n",
       " {'timestamp': 2035,\n",
       "  'hardwareList': [{'estimatorParams': {'qubitParams': {'name': 'qubit_gate_ns_e3'},\n",
       "     'constraints': {'maxPhysicalQubits': 32000}}},\n",
       "   {'estimatorParams': {'qubitParams': {'name': 'qubit_gate_us_e4'},\n",
       "     'constraints': {'maxPhysicalQubits': 3200}}}]},\n",
       " {'timestamp': 2037,\n",
       "  'hardwareList': [{'estimatorParams': {'qubitParams': {'name': 'qubit_gate_ns_e3'},\n",
       "     'constraints': {'maxPhysicalQubits': 64000}}},\n",
       "   {'estimatorParams': {'qubitParams': {'name': 'qubit_gate_us_e4'},\n",
       "     'constraints': {'maxPhysicalQubits': 6400}}}]},\n",
       " {'timestamp': 2039,\n",
       "  'hardwareList': [{'estimatorParams': {'qubitParams': {'name': 'qubit_gate_ns_e3'},\n",
       "     'constraints': {'maxPhysicalQubits': 128000}}},\n",
       "   {'estimatorParams': {'qubitParams': {'name': 'qubit_gate_us_e4'},\n",
       "     'constraints': {'maxPhysicalQubits': 12800}}}]},\n",
       " {'timestamp': 2041,\n",
       "  'hardwareList': [{'estimatorParams': {'qubitParams': {'name': 'qubit_gate_ns_e3'},\n",
       "     'constraints': {'maxPhysicalQubits': 256000}}},\n",
       "   {'estimatorParams': {'qubitParams': {'name': 'qubit_gate_us_e4'},\n",
       "     'constraints': {'maxPhysicalQubits': 25600}}}]},\n",
       " {'timestamp': 2043,\n",
       "  'hardwareList': [{'estimatorParams': {'qubitParams': {'name': 'qubit_gate_ns_e3'},\n",
       "     'constraints': {'maxPhysicalQubits': 512000}}},\n",
       "   {'estimatorParams': {'qubitParams': {'name': 'qubit_gate_us_e4'},\n",
       "     'constraints': {'maxPhysicalQubits': 51200}}}]}]"
      ]
     },
     "execution_count": 2,
     "metadata": {},
     "output_type": "execute_result"
    }
   ],
   "source": [
    "hardware_roadmap = HardwareRoadmap()\n",
    "\n",
    "params_sc = EstimatorParams() # parameters for typical superconducting qubits\n",
    "params_sc.qubit_params.name = \"qubit_gate_ns_e3\"\n",
    "\n",
    "params_ti = EstimatorParams() # parameters for typical trapped ion qubits\n",
    "params_ti.qubit_params.name = \"qubit_gate_us_e4\"\n",
    "\n",
    "for i in range(10):\n",
    "    params_sc.constraints.max_physical_qubits = 1000*(2**i)\n",
    "    params_ti.constraints.max_physical_qubits = 100*(2**i)\n",
    "    hardware_roadmap.add(timestamp=2025+2*i, estimator_params=[params_sc, params_ti])\n",
    "\n",
    "hardware_roadmap.as_list()"
   ]
  },
  {
   "cell_type": "code",
   "execution_count": 3,
   "metadata": {},
   "outputs": [],
   "source": [
    "hardware_roadmap.save_roadmap('sample_hardware_roadmap')"
   ]
  },
  {
   "cell_type": "code",
   "execution_count": 4,
   "metadata": {},
   "outputs": [],
   "source": [
    "lifespan_estimator = LifespanEstimator(hardware_roadmap)"
   ]
  },
  {
   "cell_type": "code",
   "execution_count": 5,
   "metadata": {},
   "outputs": [
    {
     "data": {
      "text/plain": [
       "{'protocol': 'RSA-8',\n",
       " 'threats': [{'timestamp': 2037, 'runtime': 2508288800},\n",
       "  {'timestamp': 2039, 'runtime': 501676800},\n",
       "  {'timestamp': 2039, 'runtime': 1488618000000},\n",
       "  {'timestamp': 2041, 'runtime': 209025200},\n",
       "  {'timestamp': 2041, 'runtime': 186078600000},\n",
       "  {'timestamp': 2043, 'runtime': 163008000},\n",
       "  {'timestamp': 2043, 'runtime': 114105600000}]}"
      ]
     },
     "execution_count": 5,
     "metadata": {},
     "output_type": "execute_result"
    }
   ],
   "source": [
    "lifespan = lifespan_estimator.estimate_threats(\"RSA\", 8, detail_level=1)\n",
    "lifespan"
   ]
  },
  {
   "cell_type": "code",
   "execution_count": 6,
   "metadata": {},
   "outputs": [],
   "source": [
    "protocols = [\n",
    "    {\"algorithm\": \"RSA\", \"keySize\": 8},\n",
    "    {\"algorithm\": \"RSA\", \"keySize\": 16},\n",
    "    {\"algorithm\": \"RSA\", \"keySize\": 32},\n",
    "    {\"algorithm\": \"RSA\", \"keySize\": 64}\n",
    "    ]"
   ]
  },
  {
   "cell_type": "code",
   "execution_count": 7,
   "metadata": {},
   "outputs": [
    {
     "data": {
      "text/plain": [
       "[{'protocol': 'RSA-8',\n",
       "  'threats': [{'timestamp': 2037, 'runtime': 2508288800},\n",
       "   {'timestamp': 2039, 'runtime': 501676800},\n",
       "   {'timestamp': 2039, 'runtime': 1488618000000},\n",
       "   {'timestamp': 2041, 'runtime': 209025200},\n",
       "   {'timestamp': 2041, 'runtime': 186078600000},\n",
       "   {'timestamp': 2043, 'runtime': 163008000},\n",
       "   {'timestamp': 2043, 'runtime': 114105600000}]},\n",
       " {'protocol': 'RSA-16',\n",
       "  'threats': [{'timestamp': 2039, 'runtime': 23379148800},\n",
       "   {'timestamp': 2041, 'runtime': 2597718000},\n",
       "   {'timestamp': 2041, 'runtime': 4221239400000},\n",
       "   {'timestamp': 2043, 'runtime': 1759795200},\n",
       "   {'timestamp': 2043, 'runtime': 1250380800000}]},\n",
       " {'protocol': 'RSA-32',\n",
       "  'threats': [{'timestamp': 2043, 'runtime': 23608872000}]},\n",
       " {'protocol': 'RSA-64', 'threats': []}]"
      ]
     },
     "execution_count": 7,
     "metadata": {},
     "output_type": "execute_result"
    }
   ],
   "source": [
    "threat_report = lifespan_estimator.generate_report(protocols=protocols, detail_level=1)\n",
    "threat_report"
   ]
  },
  {
   "cell_type": "code",
   "execution_count": 8,
   "metadata": {},
   "outputs": [],
   "source": [
    "lifespan_estimator.save_report('sample_threat_report')"
   ]
  }
 ],
 "metadata": {
  "kernelspec": {
   "display_name": ".venv",
   "language": "python",
   "name": "python3"
  },
  "language_info": {
   "codemirror_mode": {
    "name": "ipython",
    "version": 3
   },
   "file_extension": ".py",
   "mimetype": "text/x-python",
   "name": "python",
   "nbconvert_exporter": "python",
   "pygments_lexer": "ipython3",
   "version": "3.12.7"
  }
 },
 "nbformat": 4,
 "nbformat_minor": 2
}
