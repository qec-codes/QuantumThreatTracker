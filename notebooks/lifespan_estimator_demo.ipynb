{
 "cells": [
  {
   "cell_type": "markdown",
   "metadata": {},
   "source": [
    "Notebook to experiment with the lifespan estimator and assist in its development."
   ]
  },
  {
   "cell_type": "code",
   "execution_count": 9,
   "metadata": {},
   "outputs": [],
   "source": [
    "from qsharp.estimator import EstimatorParams\n",
    "\n",
    "from quantumthreattracker.lifespan_estimator.lifespan_estimator import (\n",
    "    HardwareRoadmap,\n",
    "    LifespanEstimator,\n",
    ")"
   ]
  },
  {
   "cell_type": "code",
   "execution_count": 10,
   "metadata": {},
   "outputs": [
    {
     "data": {
      "text/plain": [
       "[{'timestamp': 2025,\n",
       "  'hardwareList': [{'estimatorParams': {'qubitParams': {'name': 'qubit_gate_ns_e3'},\n",
       "     'constraints': {'maxPhysicalQubits': 1000}}},\n",
       "   {'estimatorParams': {'qubitParams': {'name': 'qubit_gate_us_e4'},\n",
       "     'constraints': {'maxPhysicalQubits': 100}}}]},\n",
       " {'timestamp': 2027,\n",
       "  'hardwareList': [{'estimatorParams': {'qubitParams': {'name': 'qubit_gate_ns_e3'},\n",
       "     'constraints': {'maxPhysicalQubits': 2000}}},\n",
       "   {'estimatorParams': {'qubitParams': {'name': 'qubit_gate_us_e4'},\n",
       "     'constraints': {'maxPhysicalQubits': 200}}}]},\n",
       " {'timestamp': 2029,\n",
       "  'hardwareList': [{'estimatorParams': {'qubitParams': {'name': 'qubit_gate_ns_e3'},\n",
       "     'constraints': {'maxPhysicalQubits': 4000}}},\n",
       "   {'estimatorParams': {'qubitParams': {'name': 'qubit_gate_us_e4'},\n",
       "     'constraints': {'maxPhysicalQubits': 400}}}]},\n",
       " {'timestamp': 2031,\n",
       "  'hardwareList': [{'estimatorParams': {'qubitParams': {'name': 'qubit_gate_ns_e3'},\n",
       "     'constraints': {'maxPhysicalQubits': 8000}}},\n",
       "   {'estimatorParams': {'qubitParams': {'name': 'qubit_gate_us_e4'},\n",
       "     'constraints': {'maxPhysicalQubits': 800}}}]},\n",
       " {'timestamp': 2033,\n",
       "  'hardwareList': [{'estimatorParams': {'qubitParams': {'name': 'qubit_gate_ns_e3'},\n",
       "     'constraints': {'maxPhysicalQubits': 16000}}},\n",
       "   {'estimatorParams': {'qubitParams': {'name': 'qubit_gate_us_e4'},\n",
       "     'constraints': {'maxPhysicalQubits': 1600}}}]},\n",
       " {'timestamp': 2035,\n",
       "  'hardwareList': [{'estimatorParams': {'qubitParams': {'name': 'qubit_gate_ns_e3'},\n",
       "     'constraints': {'maxPhysicalQubits': 32000}}},\n",
       "   {'estimatorParams': {'qubitParams': {'name': 'qubit_gate_us_e4'},\n",
       "     'constraints': {'maxPhysicalQubits': 3200}}}]},\n",
       " {'timestamp': 2037,\n",
       "  'hardwareList': [{'estimatorParams': {'qubitParams': {'name': 'qubit_gate_ns_e3'},\n",
       "     'constraints': {'maxPhysicalQubits': 64000}}},\n",
       "   {'estimatorParams': {'qubitParams': {'name': 'qubit_gate_us_e4'},\n",
       "     'constraints': {'maxPhysicalQubits': 6400}}}]},\n",
       " {'timestamp': 2039,\n",
       "  'hardwareList': [{'estimatorParams': {'qubitParams': {'name': 'qubit_gate_ns_e3'},\n",
       "     'constraints': {'maxPhysicalQubits': 128000}}},\n",
       "   {'estimatorParams': {'qubitParams': {'name': 'qubit_gate_us_e4'},\n",
       "     'constraints': {'maxPhysicalQubits': 12800}}}]},\n",
       " {'timestamp': 2041,\n",
       "  'hardwareList': [{'estimatorParams': {'qubitParams': {'name': 'qubit_gate_ns_e3'},\n",
       "     'constraints': {'maxPhysicalQubits': 256000}}},\n",
       "   {'estimatorParams': {'qubitParams': {'name': 'qubit_gate_us_e4'},\n",
       "     'constraints': {'maxPhysicalQubits': 25600}}}]},\n",
       " {'timestamp': 2043,\n",
       "  'hardwareList': [{'estimatorParams': {'qubitParams': {'name': 'qubit_gate_ns_e3'},\n",
       "     'constraints': {'maxPhysicalQubits': 512000}}},\n",
       "   {'estimatorParams': {'qubitParams': {'name': 'qubit_gate_us_e4'},\n",
       "     'constraints': {'maxPhysicalQubits': 51200}}}]}]"
      ]
     },
     "execution_count": 10,
     "metadata": {},
     "output_type": "execute_result"
    }
   ],
   "source": [
    "hardware_roadmap = HardwareRoadmap()\n",
    "\n",
    "params_sc = EstimatorParams() # parameters for typical superconducting qubits\n",
    "params_sc.qubit_params.name = \"qubit_gate_ns_e3\"\n",
    "\n",
    "params_ti = EstimatorParams() # parameters for typical trapped ion qubits\n",
    "params_ti.qubit_params.name = \"qubit_gate_us_e4\"\n",
    "\n",
    "for i in range(10):\n",
    "    params_sc.constraints.max_physical_qubits = 1000*(2**i)\n",
    "    params_ti.constraints.max_physical_qubits = 100*(2**i)\n",
    "    hardware_roadmap.add(timestamp=2025+2*i, estimator_params=[params_sc, params_ti])\n",
    "\n",
    "hardware_roadmap.as_list()"
   ]
  },
  {
   "cell_type": "code",
   "execution_count": 11,
   "metadata": {},
   "outputs": [],
   "source": [
    "hardware_roadmap.save('sample_hardware_roadmap')"
   ]
  },
  {
   "cell_type": "code",
   "execution_count": 12,
   "metadata": {},
   "outputs": [],
   "source": [
    "lifespan_estimator = LifespanEstimator(hardware_roadmap)"
   ]
  },
  {
   "cell_type": "code",
   "execution_count": 13,
   "metadata": {},
   "outputs": [
    {
     "data": {
      "text/plain": [
       "{'protocol': 'RSA-8',\n",
       " 'threats': [{'timestamp': 2037, 'runtime': 2508288800},\n",
       "  {'timestamp': 2039, 'runtime': 501676800},\n",
       "  {'timestamp': 2039, 'runtime': 1488618000000},\n",
       "  {'timestamp': 2041, 'runtime': 209025200},\n",
       "  {'timestamp': 2041, 'runtime': 186078600000},\n",
       "  {'timestamp': 2043, 'runtime': 163008000},\n",
       "  {'timestamp': 2043, 'runtime': 114105600000}]}"
      ]
     },
     "execution_count": 13,
     "metadata": {},
     "output_type": "execute_result"
    }
   ],
   "source": [
    "lifespan = lifespan_estimator.estimate_threats(\"RSA\", 8, detail_level=1)\n",
    "lifespan"
   ]
  },
  {
   "cell_type": "code",
   "execution_count": 14,
   "metadata": {},
   "outputs": [],
   "source": [
    "protocols = [\n",
    "    {\"algorithm\": \"RSA\", \"keySize\": 8},\n",
    "    {\"algorithm\": \"RSA\", \"keySize\": 16},\n",
    "    {\"algorithm\": \"RSA\", \"keySize\": 32},\n",
    "    {\"algorithm\": \"RSA\", \"keySize\": 64}\n",
    "    ]"
   ]
  },
  {
   "cell_type": "code",
   "execution_count": null,
   "metadata": {},
   "outputs": [],
   "source": [
    "threat_report = lifespan_estimator.generate_threat_report(protocols=protocols, detail_level=1)\n",
    "threat_report"
   ]
  },
  {
   "cell_type": "code",
   "execution_count": null,
   "metadata": {},
   "outputs": [],
   "source": [
    "lifespan_estimator.save_threat_report('sample_threat_report')"
   ]
  }
 ],
 "metadata": {
  "kernelspec": {
   "display_name": ".venv",
   "language": "python",
   "name": "python3"
  },
  "language_info": {
   "codemirror_mode": {
    "name": "ipython",
    "version": 3
   },
   "file_extension": ".py",
   "mimetype": "text/x-python",
   "name": "python",
   "nbconvert_exporter": "python",
   "pygments_lexer": "ipython3",
   "version": "3.12.7"
  }
 },
 "nbformat": 4,
 "nbformat_minor": 2
}
