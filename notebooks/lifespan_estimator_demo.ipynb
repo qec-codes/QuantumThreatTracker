{
 "cells": [
  {
   "cell_type": "markdown",
   "metadata": {},
   "source": [
    "Notebook to experiment with the lifespan estimator and assist in its development."
   ]
  },
  {
   "cell_type": "code",
   "execution_count": 1,
   "metadata": {},
   "outputs": [
    {
     "data": {
      "application/javascript": "// Copyright (c) Microsoft Corporation.\n// Licensed under the MIT License.\n\n// This file provides CodeMirror syntax highlighting for Q# magic cells\n// in classic Jupyter Notebooks. It does nothing in other (Jupyter Notebook 7,\n// VS Code, Azure Notebooks, etc.) environments.\n\n// Detect the prerequisites and do nothing if they don't exist.\nif (window.require && window.CodeMirror && window.Jupyter) {\n  // The simple mode plugin for CodeMirror is not loaded by default, so require it.\n  window.require([\"codemirror/addon/mode/simple\"], function defineMode() {\n    let rules = [\n      {\n        token: \"comment\",\n        regex: /(\\/\\/).*/,\n        beginWord: false,\n      },\n      {\n        token: \"string\",\n        regex: String.raw`^\\\"(?:[^\\\"\\\\]|\\\\[\\s\\S])*(?:\\\"|$)`,\n        beginWord: false,\n      },\n      {\n        token: \"keyword\",\n        regex: String.raw`(namespace|open|as|operation|function|body|adjoint|newtype|controlled|internal)\\b`,\n        beginWord: true,\n      },\n      {\n        token: \"keyword\",\n        regex: String.raw`(if|elif|else|repeat|until|fixup|for|in|return|fail|within|apply)\\b`,\n        beginWord: true,\n      },\n      {\n        token: \"keyword\",\n        regex: String.raw`(Adjoint|Controlled|Adj|Ctl|is|self|auto|distribute|invert|intrinsic)\\b`,\n        beginWord: true,\n      },\n      {\n        token: \"keyword\",\n        regex: String.raw`(let|set|use|borrow|mutable)\\b`,\n        beginWord: true,\n      },\n      {\n        token: \"operatorKeyword\",\n        regex: String.raw`(not|and|or)\\b|(w/)`,\n        beginWord: true,\n      },\n      {\n        token: \"operatorKeyword\",\n        regex: String.raw`(=)|(!)|(<)|(>)|(\\+)|(-)|(\\*)|(/)|(\\^)|(%)|(\\|)|(&&&)|(~~~)|(\\.\\.\\.)|(\\.\\.)|(\\?)`,\n        beginWord: false,\n      },\n      {\n        token: \"meta\",\n        regex: String.raw`(Int|BigInt|Double|Bool|Qubit|Pauli|Result|Range|String|Unit)\\b`,\n        beginWord: true,\n      },\n      {\n        token: \"atom\",\n        regex: String.raw`(true|false|Pauli(I|X|Y|Z)|One|Zero)\\b`,\n        beginWord: true,\n      },\n    ];\n    let simpleRules = [];\n    for (let rule of rules) {\n      simpleRules.push({\n        token: rule.token,\n        regex: new RegExp(rule.regex, \"g\"),\n        sol: rule.beginWord,\n      });\n      if (rule.beginWord) {\n        // Need an additional rule due to the fact that CodeMirror simple mode doesn't work with ^ token\n        simpleRules.push({\n          token: rule.token,\n          regex: new RegExp(String.raw`\\W` + rule.regex, \"g\"),\n          sol: false,\n        });\n      }\n    }\n\n    // Register the mode defined above with CodeMirror\n    window.CodeMirror.defineSimpleMode(\"qsharp\", { start: simpleRules });\n    window.CodeMirror.defineMIME(\"text/x-qsharp\", \"qsharp\");\n\n    // Tell Jupyter to associate %%qsharp magic cells with the qsharp mode\n    window.Jupyter.CodeCell.options_default.highlight_modes[\"qsharp\"] = {\n      reg: [/^%%qsharp/],\n    };\n\n    // Force re-highlighting of all cells the first time this code runs\n    for (const cell of window.Jupyter.notebook.get_cells()) {\n      cell.auto_highlight();\n    }\n  });\n}\n",
      "text/plain": []
     },
     "metadata": {},
     "output_type": "display_data"
    }
   ],
   "source": [
    "from quantumthreattracker.lifespan_estimator.lifespan_estimator import (\n",
    "    HardwareRoadmap,\n",
    "    LifespanEstimator,\n",
    ")"
   ]
  },
  {
   "cell_type": "code",
   "execution_count": 2,
   "metadata": {},
   "outputs": [],
   "source": [
    "hardware_roadmap = HardwareRoadmap()"
   ]
  },
  {
   "cell_type": "code",
   "execution_count": 3,
   "metadata": {},
   "outputs": [],
   "source": [
    "hardware_roadmap.add(year=2040, qubit_type = \"superconducting\", n_qubits = 1e6, gate_error_rate = 1e-3)\n",
    "hardware_roadmap.add(year=2045, qubit_type = \"superconducting\", n_qubits = 1e7, gate_error_rate = 1e-3)\n",
    "hardware_roadmap.add(year=2050, qubit_type = \"superconducting\", n_qubits = 1e8, gate_error_rate = 1e-3)\n",
    "\n",
    "hardware_roadmap.add(year=2040, qubit_type = \"trapped ions\", n_qubits = 1e5, gate_error_rate = 1e-6)\n",
    "hardware_roadmap.add(year=2045, qubit_type = \"trapped ions\", n_qubits = 1e6, gate_error_rate = 1e-6)\n",
    "hardware_roadmap.add(year=2050, qubit_type = \"trapped ions\", n_qubits = 1e7, gate_error_rate = 1e-6)"
   ]
  },
  {
   "cell_type": "code",
   "execution_count": 4,
   "metadata": {},
   "outputs": [
    {
     "data": {
      "text/plain": [
       "[{'timestamp': 2208988800.0,\n",
       "  'hardware': [{'qubit_type': 'superconducting',\n",
       "    'n_qubits': 1000000.0,\n",
       "    'gate_error_rate': 0.001},\n",
       "   [{'qubit_type': 'trapped ions',\n",
       "     'n_qubits': 100000.0,\n",
       "     'gate_error_rate': 1e-06}]]},\n",
       " {'timestamp': 2366841600.0,\n",
       "  'hardware': [{'qubit_type': 'superconducting',\n",
       "    'n_qubits': 10000000.0,\n",
       "    'gate_error_rate': 0.001},\n",
       "   [{'qubit_type': 'trapped ions',\n",
       "     'n_qubits': 1000000.0,\n",
       "     'gate_error_rate': 1e-06}]]},\n",
       " {'timestamp': 2524608000.0,\n",
       "  'hardware': [{'qubit_type': 'superconducting',\n",
       "    'n_qubits': 100000000.0,\n",
       "    'gate_error_rate': 0.001},\n",
       "   [{'qubit_type': 'trapped ions',\n",
       "     'n_qubits': 10000000.0,\n",
       "     'gate_error_rate': 1e-06}]]}]"
      ]
     },
     "execution_count": 4,
     "metadata": {},
     "output_type": "execute_result"
    }
   ],
   "source": [
    "hardware_roadmap.list()"
   ]
  },
  {
   "cell_type": "code",
   "execution_count": 5,
   "metadata": {},
   "outputs": [
    {
     "name": "stdout",
     "output_type": "stream",
     "text": [
      "2040-01-01\n"
     ]
    }
   ],
   "source": [
    "lifespan_estimator = LifespanEstimator(hardware_roadmap)\n",
    "timestamp = lifespan_estimator.estimate_lifespan(\"RSA\", 8, formatted=True)\n",
    "\n",
    "print(timestamp)"
   ]
  }
 ],
 "metadata": {
  "kernelspec": {
   "display_name": ".venv",
   "language": "python",
   "name": "python3"
  },
  "language_info": {
   "codemirror_mode": {
    "name": "ipython",
    "version": 3
   },
   "file_extension": ".py",
   "mimetype": "text/x-python",
   "name": "python",
   "nbconvert_exporter": "python",
   "pygments_lexer": "ipython3",
   "version": "3.12.7"
  }
 },
 "nbformat": 4,
 "nbformat_minor": 2
}
