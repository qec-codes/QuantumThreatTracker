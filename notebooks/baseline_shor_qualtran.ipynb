{
 "cells": [
  {
   "cell_type": "code",
   "execution_count": 9,
   "metadata": {},
   "outputs": [
    {
     "name": "stdout",
     "output_type": "stream",
     "text": [
      "2049 T-count:   1.67705e+08\n",
      "Rotations: 0\n",
      "Cliffords: 8.38431e+08\n",
      "\n"
     ]
    }
   ],
   "source": [
    "from qualtran.bloqs.factoring.mod_exp import ModExp\n",
    "from qualtran.bloqs.mod_arithmetic import CModMulK\n",
    "from qualtran.drawing import show_bloq\n",
    "from qualtran import (\n",
    "    Bloq,\n",
    "    bloq_example,\n",
    "    BloqBuilder,\n",
    "    BloqDocSpec,\n",
    "    DecomposeTypeError,\n",
    "    QUInt,\n",
    "    Register,\n",
    "    Side,\n",
    "    Signature,\n",
    "    Soquet,\n",
    "    SoquetT,\n",
    ")\n",
    "\n",
    "# N = 17*19 # integer to factor\n",
    "# g = 8\n",
    "# ModExp \n",
    "N = 2**2048\n",
    "\n",
    "mod_exp = CModMulK(QUInt(2048), k=2**2048-1, mod=N)\n",
    "\n",
    "num_qubits = mod_exp.signature.n_qubits()\n",
    "complexity = mod_exp.t_complexity()\n",
    "# show_bloq(mod_exp)\n",
    "\n",
    "print(num_qubits, complexity)"
   ]
  },
  {
   "cell_type": "code",
   "execution_count": 10,
   "metadata": {},
   "outputs": [],
   "source": [
    "def get_bloq_logical_counts(bloq):\n",
    "    from qsharp.estimator import LogicalCounts\n",
    "    from qualtran._infra.gate_with_registers import get_named_qubits\n",
    "\n",
    "    # This way of calculating the number of qubits will be inaccurate if a sub_bloq\n",
    "    # allocates new qubits.\n",
    "    # num_qubits = bloq.signature.n_qubits()\n",
    "    num_qubits = 3*bloq.signature.n_qubits()\n",
    "    print(num_qubits)\n",
    "    complexity = bloq.t_complexity()\n",
    "    print(complexity)\n",
    "\n",
    "    return LogicalCounts({\n",
    "        \"numQubits\": num_qubits,\n",
    "        \"tCount\": complexity.t*3072,\n",
    "        \"rotationCount\": complexity.rotations,\n",
    "        \"rotationDepth\": complexity.rotations,\n",
    "        \n",
    "    })"
   ]
  },
  {
   "cell_type": "code",
   "execution_count": 12,
   "metadata": {},
   "outputs": [
    {
     "name": "stdout",
     "output_type": "stream",
     "text": [
      "6147\n",
      "T-count:   1.67705e+08\n",
      "Rotations: 0\n",
      "Cliffords: 8.38431e+08\n",
      "\n"
     ]
    },
    {
     "data": {
      "text/plain": [
       "{'physicalQubits': 31382690,\n",
       " 'runtime': 7212638404608000,\n",
       " 'rqops': 894071429,\n",
       " 'breakdown': {'algorithmicLogicalQubits': 12517,\n",
       "  'algorithmicLogicalDepth': 515188457472,\n",
       "  'logicalDepth': 515188457472,\n",
       "  'numTstates': 515188457472,\n",
       "  'clockFrequency': 71428.57142857143,\n",
       "  'numTfactories': 13,\n",
       "  'numTfactoryRuns': 39629881344,\n",
       "  'physicalQubitsForTfactories': 716040,\n",
       "  'physicalQubitsForAlgorithm': 30666650,\n",
       "  'requiredLogicalQubitErrorRate': 7.753604201369248e-20,\n",
       "  'requiredLogicalTstateErrorRate': 9.705186378853888e-16,\n",
       "  'numTsPerRotation': None,\n",
       "  'cliffordErrorRate': 0.001}}"
      ]
     },
     "execution_count": 12,
     "metadata": {},
     "output_type": "execute_result"
    }
   ],
   "source": [
    "estimates = get_bloq_logical_counts(mod_exp).estimate([\n",
    "    {\"qubitParams\": {\"name\": \"qubit_gate_ns_e3\"}},\n",
    "    # {\"qubitParams\": {\"name\": \"qubit_gate_ns_e4\"}},\n",
    "    # {\"qubitParams\": {\"name\": \"qubit_maj_ns_e4\"}, \"surfaceCode\": {\"name\": \"floquet_code\"}},\n",
    "    # {\"qubitParams\": {\"name\": \"qubit_maj_ns_e6\"}, \"surfaceCode\": {\"name\": \"floquet_code\"}},\n",
    "])\n",
    "\n",
    "estimates['physicalCounts']"
   ]
  },
  {
   "cell_type": "code",
   "execution_count": null,
   "metadata": {},
   "outputs": [],
   "source": []
  }
 ],
 "metadata": {
  "kernelspec": {
   "display_name": ".venv",
   "language": "python",
   "name": "python3"
  },
  "language_info": {
   "codemirror_mode": {
    "name": "ipython",
    "version": 3
   },
   "file_extension": ".py",
   "mimetype": "text/x-python",
   "name": "python",
   "nbconvert_exporter": "python",
   "pygments_lexer": "ipython3",
   "version": "3.12.8"
  }
 },
 "nbformat": 4,
 "nbformat_minor": 2
}
