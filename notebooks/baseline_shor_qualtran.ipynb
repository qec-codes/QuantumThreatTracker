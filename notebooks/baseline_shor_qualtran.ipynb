{
 "cells": [
  {
   "cell_type": "markdown",
   "metadata": {},
   "source": [
    "Notebook for demonstrating the resource estimation pipeline."
   ]
  },
  {
   "cell_type": "code",
   "execution_count": 1,
   "metadata": {},
   "outputs": [
    {
     "data": {
      "application/javascript": "// Copyright (c) Microsoft Corporation.\n// Licensed under the MIT License.\n\n// This file provides CodeMirror syntax highlighting for Q# magic cells\n// in classic Jupyter Notebooks. It does nothing in other (Jupyter Notebook 7,\n// VS Code, Azure Notebooks, etc.) environments.\n\n// Detect the prerequisites and do nothing if they don't exist.\nif (window.require && window.CodeMirror && window.Jupyter) {\n  // The simple mode plugin for CodeMirror is not loaded by default, so require it.\n  window.require([\"codemirror/addon/mode/simple\"], function defineMode() {\n    let rules = [\n      {\n        token: \"comment\",\n        regex: /(\\/\\/).*/,\n        beginWord: false,\n      },\n      {\n        token: \"string\",\n        regex: String.raw`^\\\"(?:[^\\\"\\\\]|\\\\[\\s\\S])*(?:\\\"|$)`,\n        beginWord: false,\n      },\n      {\n        token: \"keyword\",\n        regex: String.raw`(namespace|open|as|operation|function|body|adjoint|newtype|controlled|internal)\\b`,\n        beginWord: true,\n      },\n      {\n        token: \"keyword\",\n        regex: String.raw`(if|elif|else|repeat|until|fixup|for|in|return|fail|within|apply)\\b`,\n        beginWord: true,\n      },\n      {\n        token: \"keyword\",\n        regex: String.raw`(Adjoint|Controlled|Adj|Ctl|is|self|auto|distribute|invert|intrinsic)\\b`,\n        beginWord: true,\n      },\n      {\n        token: \"keyword\",\n        regex: String.raw`(let|set|use|borrow|mutable)\\b`,\n        beginWord: true,\n      },\n      {\n        token: \"operatorKeyword\",\n        regex: String.raw`(not|and|or)\\b|(w/)`,\n        beginWord: true,\n      },\n      {\n        token: \"operatorKeyword\",\n        regex: String.raw`(=)|(!)|(<)|(>)|(\\+)|(-)|(\\*)|(/)|(\\^)|(%)|(\\|)|(&&&)|(~~~)|(\\.\\.\\.)|(\\.\\.)|(\\?)`,\n        beginWord: false,\n      },\n      {\n        token: \"meta\",\n        regex: String.raw`(Int|BigInt|Double|Bool|Qubit|Pauli|Result|Range|String|Unit)\\b`,\n        beginWord: true,\n      },\n      {\n        token: \"atom\",\n        regex: String.raw`(true|false|Pauli(I|X|Y|Z)|One|Zero)\\b`,\n        beginWord: true,\n      },\n    ];\n    let simpleRules = [];\n    for (let rule of rules) {\n      simpleRules.push({\n        token: rule.token,\n        regex: new RegExp(rule.regex, \"g\"),\n        sol: rule.beginWord,\n      });\n      if (rule.beginWord) {\n        // Need an additional rule due to the fact that CodeMirror simple mode doesn't work with ^ token\n        simpleRules.push({\n          token: rule.token,\n          regex: new RegExp(String.raw`\\W` + rule.regex, \"g\"),\n          sol: false,\n        });\n      }\n    }\n\n    // Register the mode defined above with CodeMirror\n    window.CodeMirror.defineSimpleMode(\"qsharp\", { start: simpleRules });\n    window.CodeMirror.defineMIME(\"text/x-qsharp\", \"qsharp\");\n\n    // Tell Jupyter to associate %%qsharp magic cells with the qsharp mode\n    window.Jupyter.CodeCell.options_default.highlight_modes[\"qsharp\"] = {\n      reg: [/^%%qsharp/],\n    };\n\n    // Force re-highlighting of all cells the first time this code runs\n    for (const cell of window.Jupyter.notebook.get_cells()) {\n      cell.auto_highlight();\n    }\n  });\n}\n",
      "text/plain": []
     },
     "metadata": {},
     "output_type": "display_data"
    }
   ],
   "source": [
    "from qsharp.estimator import LogicalCounts\n",
    "from qualtran import Bloq, QUInt\n",
    "from qualtran.bloqs.mod_arithmetic import CModMulK"
   ]
  },
  {
   "cell_type": "markdown",
   "metadata": {},
   "source": [
    "**Step 1.** Define the key size $n$."
   ]
  },
  {
   "cell_type": "code",
   "execution_count": 2,
   "metadata": {},
   "outputs": [],
   "source": [
    "key_size = 2048"
   ]
  },
  {
   "cell_type": "markdown",
   "metadata": {},
   "source": [
    "**Step 2.** Create the Bloq which defines the subcircuit dominating the resource cost of the algorithm. In this case (and most cases) it is the controlled modular multiplier.\n",
    "\n",
    "- `modulus` is the integer to be factored. Since the resource cost is (usually) the same for any $n$-bit integer, for simplicity we take it to be $N = 2^n - 1$.\n",
    "- `multiplicand` is the classically pre-computed constant which is multiplied by the value in the quantum register, i.e., the number $a$ in the quantum computation $\\ket{x} \\mapsto \\ket{ax \\mod N}$.<br>The resource cost of the controlled modular multiplier is also (usually) invariant in the value of $a$. Since $a$ must be coprime to $N$, for simplicity we take it to be $a = N - 1 = 2^n - 2$."
   ]
  },
  {
   "cell_type": "code",
   "execution_count": 3,
   "metadata": {},
   "outputs": [],
   "source": [
    "modulus = 2**key_size - 1\n",
    "multiplicand = 2**key_size - 2\n",
    "\n",
    "mod_mul = CModMulK(dtype=QUInt(key_size), k=multiplicand, mod=modulus)"
   ]
  },
  {
   "cell_type": "markdown",
   "metadata": {},
   "source": [
    "**Step 3.** Compute the number of ancilla qubits needed for the subcircuit. To match the implementation of [Gidney and Ekerå](https://doi.org/10.22331/q-2021-04-15-433), we take this to be $2 n$."
   ]
  },
  {
   "cell_type": "code",
   "execution_count": 4,
   "metadata": {},
   "outputs": [],
   "source": [
    "ancillas = int(2*key_size)"
   ]
  },
  {
   "cell_type": "markdown",
   "metadata": {},
   "source": [
    "**Step 4.** Compute the number of times the subcircuit is repeated in the entire algorithm. To again match the implementation of [Gidney and Ekerå](https://doi.org/10.22331/q-2021-04-15-433), we take this to be $1.5 n$."
   ]
  },
  {
   "cell_type": "code",
   "execution_count": 5,
   "metadata": {},
   "outputs": [],
   "source": [
    "subcircuit_reps = int(1.5*key_size)"
   ]
  },
  {
   "cell_type": "markdown",
   "metadata": {},
   "source": [
    "**Step 5.** Convert logical resource estimates from the circuit defined by Qualtran Bloqs into a format that can be input to Microsoft's Azure Quantum Resource Estimator."
   ]
  },
  {
   "cell_type": "code",
   "execution_count": 6,
   "metadata": {},
   "outputs": [],
   "source": [
    "def get_bloq_logical_counts(bloq: Bloq, ancillas: int = 0, subcircuit_reps: int = 1) -> LogicalCounts:\n",
    "    \"\"\"Perform resource estimation on multiple copies of a Qualtran Bloq.\n",
    "\n",
    "    Parameters\n",
    "    ----------\n",
    "    bloq : Bloq\n",
    "        Subcircuit which dominates the resource cost\n",
    "    ancillas : int, optional\n",
    "        Number of ancillas needed by the Qualtran Bloq, by default 0\n",
    "    subcircuit_reps : int, optional\n",
    "        Number of sequential repetitions of the Qualtran Bloq, by default 1\n",
    "\n",
    "    Returns\n",
    "    -------\n",
    "    LogicalCounts\n",
    "        Resource estimates returned by qsharp.\n",
    "    \"\"\"\n",
    "    # This way of calculating the number of qubits will be inaccurate if a sub_bloq\n",
    "    # allocates new qubits.\n",
    "\n",
    "    num_qubits = bloq.signature.n_qubits() + ancillas\n",
    "\n",
    "    print(f\"Logical qubits: {num_qubits}\")\n",
    "    complexity = bloq.t_complexity()\n",
    "    print(complexity)\n",
    "\n",
    "    return LogicalCounts(\n",
    "        {\n",
    "            \"numQubits\": num_qubits,\n",
    "            \"tCount\": complexity.t * subcircuit_reps,\n",
    "            \"rotationCount\": complexity.rotations * subcircuit_reps,\n",
    "            \"rotationDepth\": complexity.rotations * subcircuit_reps,\n",
    "        }\n",
    "    )"
   ]
  },
  {
   "cell_type": "code",
   "execution_count": 7,
   "metadata": {},
   "outputs": [
    {
     "name": "stdout",
     "output_type": "stream",
     "text": [
      "Logical qubits: 6145\n",
      "T-count:   1.67705e+08\n",
      "Rotations: 0\n",
      "Cliffords: 8.38431e+08\n",
      "\n"
     ]
    }
   ],
   "source": [
    "logical_counts = get_bloq_logical_counts(mod_mul, ancillas, subcircuit_reps)"
   ]
  },
  {
   "cell_type": "markdown",
   "metadata": {},
   "source": [
    "**Step 6.** Use Microsoft's Azure Quantum Resource Estimator to obtain physical resources estimates from the logical resource estimates."
   ]
  },
  {
   "cell_type": "code",
   "execution_count": 8,
   "metadata": {},
   "outputs": [],
   "source": [
    "estimates = logical_counts.estimate(\n",
    "    [\n",
    "        {\"qubitParams\": {\"name\": \"qubit_gate_ns_e3\"}},\n",
    "        # {\"qubitParams\": {\"name\": \"qubit_gate_ns_e4\"}},\n",
    "        # {\"qubitParams\": {\"name\": \"qubit_maj_ns_e4\"}, \"surfaceCode\": {\"name\": \"floquet_code\"}},  # noqa: W505\n",
    "        # {\"qubitParams\": {\"name\": \"qubit_maj_ns_e6\"}, \"surfaceCode\": {\"name\": \"floquet_code\"}},  # noqa: W505\n",
    "    ]\n",
    ")"
   ]
  },
  {
   "cell_type": "code",
   "execution_count": 9,
   "metadata": {},
   "outputs": [
    {
     "data": {
      "text/plain": [
       "{'runtime': '83 days',\n",
       " 'rqops': '893.79M',\n",
       " 'physicalQubits': '31.37M',\n",
       " 'algorithmicLogicalQubits': '12.51k',\n",
       " 'algorithmicLogicalDepth': '515.19G',\n",
       " 'logicalDepth': '515.19G',\n",
       " 'numTstates': '515.19G',\n",
       " 'numTfactories': '13',\n",
       " 'numTfactoryRuns': '39.63G',\n",
       " 'physicalQubitsForAlgorithm': '30.66M',\n",
       " 'physicalQubitsForTfactories': '716.04k',\n",
       " 'physicalQubitsForTfactoriesPercentage': '2.28 %',\n",
       " 'requiredLogicalQubitErrorRate': '7.76e-20',\n",
       " 'requiredLogicalTstateErrorRate': '9.71e-16',\n",
       " 'physicalQubitsPerLogicalQubit': '2.45k',\n",
       " 'logicalCycleTime': '14 microsecs',\n",
       " 'clockFrequency': '71.43k',\n",
       " 'logicalErrorRate': '3.00e-20',\n",
       " 'tfactoryPhysicalQubits': '55.08k',\n",
       " 'tfactoryRuntime': '174 microsecs',\n",
       " 'numInputTstates': '255',\n",
       " 'numUnitsPerRound': '17, 1',\n",
       " 'unitNamePerRound': '15-to-1 space efficient, 15-to-1 RM prep',\n",
       " 'codeDistancePerRound': '9, 29',\n",
       " 'physicalQubitsPerRound': '55.08k, 52.14k',\n",
       " 'tfactoryRuntimePerRound': '47 microsecs, 128 microsecs',\n",
       " 'tstateLogicalErrorRate': '5.68e-16',\n",
       " 'logicalCountsNumQubits': '6.14k',\n",
       " 'logicalCountsTCount': '515.19G',\n",
       " 'logicalCountsRotationCount': '0',\n",
       " 'logicalCountsRotationDepth': '0',\n",
       " 'logicalCountsCczCount': '0',\n",
       " 'logicalCountsCcixCount': '0',\n",
       " 'logicalCountsMeasurementCount': '0',\n",
       " 'errorBudget': '1.00e-3',\n",
       " 'errorBudgetLogical': '5.00e-4',\n",
       " 'errorBudgetTstates': '5.00e-4',\n",
       " 'errorBudgetRotations': '0.00e0',\n",
       " 'numTsPerRotation': 'No rotations in algorithm',\n",
       " 'logicalDepthFactor': 'constraint not set',\n",
       " 'maxTFactories': 'constraint not set',\n",
       " 'maxDuration': 'constraint not set',\n",
       " 'maxPhysicalQubits': 'constraint not set'}"
      ]
     },
     "execution_count": 9,
     "metadata": {},
     "output_type": "execute_result"
    }
   ],
   "source": [
    "estimates[\"physicalCountsFormatted\"]"
   ]
  },
  {
   "cell_type": "markdown",
   "metadata": {},
   "source": [
    "The QTT will most likely interface with the unformatted output from the Azure QRE:"
   ]
  },
  {
   "cell_type": "code",
   "execution_count": 10,
   "metadata": {},
   "outputs": [
    {
     "data": {
      "text/plain": [
       "{'physicalQubits': 31372890,\n",
       " 'runtime': 7212638404608000,\n",
       " 'rqops': 893785715,\n",
       " 'breakdown': {'algorithmicLogicalQubits': 12513,\n",
       "  'algorithmicLogicalDepth': 515188457472,\n",
       "  'logicalDepth': 515188457472,\n",
       "  'numTstates': 515188457472,\n",
       "  'clockFrequency': 71428.57142857143,\n",
       "  'numTfactories': 13,\n",
       "  'numTfactoryRuns': 39629881344,\n",
       "  'physicalQubitsForTfactories': 716040,\n",
       "  'physicalQubitsForAlgorithm': 30656850,\n",
       "  'requiredLogicalQubitErrorRate': 7.756082776995036e-20,\n",
       "  'requiredLogicalTstateErrorRate': 9.705186378853888e-16,\n",
       "  'numTsPerRotation': None,\n",
       "  'cliffordErrorRate': 0.001}}"
      ]
     },
     "execution_count": 10,
     "metadata": {},
     "output_type": "execute_result"
    }
   ],
   "source": [
    "estimates[\"physicalCounts\"]"
   ]
  }
 ],
 "metadata": {
  "kernelspec": {
   "display_name": ".venv",
   "language": "python",
   "name": "python3"
  },
  "language_info": {
   "codemirror_mode": {
    "name": "ipython",
    "version": 3
   },
   "file_extension": ".py",
   "mimetype": "text/x-python",
   "name": "python",
   "nbconvert_exporter": "python",
   "pygments_lexer": "ipython3",
   "version": "3.12.7"
  }
 },
 "nbformat": 4,
 "nbformat_minor": 2
}
