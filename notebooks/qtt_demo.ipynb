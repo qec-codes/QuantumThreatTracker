{
 "cells": [
  {
   "cell_type": "markdown",
   "metadata": {},
   "source": [
    "# QTT Demo\n",
    "\n",
    "Notebook demonstrating the primary functionality of the Quantum Threat Tracker (QTT).\n",
    "\n",
    "The core functionality of the QTT is to forecast when certain public-key cryptographic protocols such as RSA may be broken by quantum computers via Shor's algorithm. In this notebook, we demonstrate how to use the QTT to generate such forecasts of the quantum threat."
   ]
  },
  {
   "cell_type": "markdown",
   "metadata": {},
   "source": [
    "## Quantum hardware roadmaps\n",
    "\n",
    "To estimate when real quantum computers will be capable of breaking certain cryptographic protocols, the QTT needs a projection into the future of where we expect quantum computing hardware to be at certain points in the future. We call this projection a hardware roadmap.\n",
    "\n",
    "Structurally, the hardware roadmap is a collection of future timestamps, paired with descriptions of what quantum computers we expect to have available at each timestamp. The technical specifications of the quantum computers are entirely defined in `qsharp`'s `EstimatorParams` class.\n",
    "\n",
    "For example, let us say we expect to have a superconducting quantum computer with 1,000,000 physical qubits in the year 2040. We can create a hardware roadmap containing this data point as follows."
   ]
  },
  {
   "cell_type": "code",
   "execution_count": 1,
   "metadata": {},
   "outputs": [
    {
     "data": {
      "application/javascript": "// Copyright (c) Microsoft Corporation.\n// Licensed under the MIT License.\n\n// This file provides CodeMirror syntax highlighting for Q# magic cells\n// in classic Jupyter Notebooks. It does nothing in other (Jupyter Notebook 7,\n// VS Code, Azure Notebooks, etc.) environments.\n\n// Detect the prerequisites and do nothing if they don't exist.\nif (window.require && window.CodeMirror && window.Jupyter) {\n  // The simple mode plugin for CodeMirror is not loaded by default, so require it.\n  window.require([\"codemirror/addon/mode/simple\"], function defineMode() {\n    let rules = [\n      {\n        token: \"comment\",\n        regex: /(\\/\\/).*/,\n        beginWord: false,\n      },\n      {\n        token: \"string\",\n        regex: String.raw`^\\\"(?:[^\\\"\\\\]|\\\\[\\s\\S])*(?:\\\"|$)`,\n        beginWord: false,\n      },\n      {\n        token: \"keyword\",\n        regex: String.raw`(namespace|open|as|operation|function|body|adjoint|newtype|controlled|internal)\\b`,\n        beginWord: true,\n      },\n      {\n        token: \"keyword\",\n        regex: String.raw`(if|elif|else|repeat|until|fixup|for|in|return|fail|within|apply)\\b`,\n        beginWord: true,\n      },\n      {\n        token: \"keyword\",\n        regex: String.raw`(Adjoint|Controlled|Adj|Ctl|is|self|auto|distribute|invert|intrinsic)\\b`,\n        beginWord: true,\n      },\n      {\n        token: \"keyword\",\n        regex: String.raw`(let|set|use|borrow|mutable)\\b`,\n        beginWord: true,\n      },\n      {\n        token: \"operatorKeyword\",\n        regex: String.raw`(not|and|or)\\b|(w/)`,\n        beginWord: true,\n      },\n      {\n        token: \"operatorKeyword\",\n        regex: String.raw`(=)|(!)|(<)|(>)|(\\+)|(-)|(\\*)|(/)|(\\^)|(%)|(\\|)|(&&&)|(~~~)|(\\.\\.\\.)|(\\.\\.)|(\\?)`,\n        beginWord: false,\n      },\n      {\n        token: \"meta\",\n        regex: String.raw`(Int|BigInt|Double|Bool|Qubit|Pauli|Result|Range|String|Unit)\\b`,\n        beginWord: true,\n      },\n      {\n        token: \"atom\",\n        regex: String.raw`(true|false|Pauli(I|X|Y|Z)|One|Zero)\\b`,\n        beginWord: true,\n      },\n    ];\n    let simpleRules = [];\n    for (let rule of rules) {\n      simpleRules.push({\n        token: rule.token,\n        regex: new RegExp(rule.regex, \"g\"),\n        sol: rule.beginWord,\n      });\n      if (rule.beginWord) {\n        // Need an additional rule due to the fact that CodeMirror simple mode doesn't work with ^ token\n        simpleRules.push({\n          token: rule.token,\n          regex: new RegExp(String.raw`\\W` + rule.regex, \"g\"),\n          sol: false,\n        });\n      }\n    }\n\n    // Register the mode defined above with CodeMirror\n    window.CodeMirror.defineSimpleMode(\"qsharp\", { start: simpleRules });\n    window.CodeMirror.defineMIME(\"text/x-qsharp\", \"qsharp\");\n\n    // Tell Jupyter to associate %%qsharp magic cells with the qsharp mode\n    window.Jupyter.CodeCell.options_default.highlight_modes[\"qsharp\"] = {\n      reg: [/^%%qsharp/],\n    };\n\n    // Force re-highlighting of all cells the first time this code runs\n    for (const cell of window.Jupyter.notebook.get_cells()) {\n      cell.auto_highlight();\n    }\n  });\n}\n",
      "text/plain": []
     },
     "metadata": {},
     "output_type": "display_data"
    }
   ],
   "source": [
    "from qsharp.estimator import EstimatorParams\n",
    "\n",
    "from quantumthreattracker.lifespan_estimator import HardwareRoadmap\n",
    "\n",
    "hardware_roadmap = HardwareRoadmap()\n",
    "\n",
    "timestamp = 2208988800  # unix timestamp for the year 2040\n",
    "\n",
    "params = EstimatorParams()\n",
    "params.qubit_params.name = \"qubit_gate_ns_e4\"  # qsharp's default parameters for superconducting qubits\n",
    "params.constraints.max_physical_qubits = 1e6\n",
    "\n",
    "hardware_roadmap.add(timestamp=timestamp, estimator_params=params)"
   ]
  },
  {
   "cell_type": "markdown",
   "metadata": {},
   "source": [
    "We can view the hardware roadmap by calling the `as_list()` method:"
   ]
  },
  {
   "cell_type": "code",
   "execution_count": 2,
   "metadata": {},
   "outputs": [
    {
     "data": {
      "text/plain": [
       "[{'timestamp': 2208988800,\n",
       "  'hardwareList': [{'estimatorParams': {'qubitParams': {'name': 'qubit_gate_ns_e4'},\n",
       "     'constraints': {'maxPhysicalQubits': 1000000.0}}}]}]"
      ]
     },
     "execution_count": 2,
     "metadata": {},
     "output_type": "execute_result"
    }
   ],
   "source": [
    "hardware_roadmap.as_list()"
   ]
  },
  {
   "cell_type": "markdown",
   "metadata": {},
   "source": [
    "Let us move on to constructing a hardware roadmap with multiple entries. For this example, we will assume that the operational parameters for superconducting quantum computers (gate times, gate error rates, etc.) stay constant whilst the qubit count follows Moore's law (doubling every two years). Note however that this is highly customisable, as any parameter present in the `EstimatorParams` class can be altered to describe other quantum computers in the hardware roadmap."
   ]
  },
  {
   "cell_type": "code",
   "execution_count": 3,
   "metadata": {},
   "outputs": [],
   "source": [
    "hardware_roadmap = HardwareRoadmap()\n",
    "\n",
    "for i in range(20):\n",
    "    params.constraints.max_physical_qubits = 1000 * (2**i)\n",
    "    hardware_roadmap.add(timestamp=1735689600 + 31536000 * 2 * i, estimator_params=params)"
   ]
  },
  {
   "cell_type": "markdown",
   "metadata": {},
   "source": [
    "## Estimating the remaining lifespans of cryptographic protocols\n",
    "\n",
    "Now that we have a hardware roadmap, we can use this information to estimate when quantum computers will be capable of breaking certain cryptographic protocols. First, we need to initialise an instance of the `LifespanEstimator` class, which offers this functionality. During initialisation, we give it the hardware roadmap we created earlier."
   ]
  },
  {
   "cell_type": "code",
   "execution_count": 4,
   "metadata": {},
   "outputs": [],
   "source": [
    "from quantumthreattracker.lifespan_estimator import LifespanEstimator\n",
    "\n",
    "lifespan_estimator = LifespanEstimator(hardware_roadmap)"
   ]
  },
  {
   "cell_type": "markdown",
   "metadata": {},
   "source": [
    "Next, we need to specify a list of cryptographic protocols and key sizes. This is given as a list of dictionaries. For example, say we are interested in the RSA protocol for key sizes from 512 to 8192. We define our list of protocols of interest as follows."
   ]
  },
  {
   "cell_type": "code",
   "execution_count": 5,
   "metadata": {},
   "outputs": [],
   "source": [
    "protocols = [\n",
    "    {\"algorithm\": \"RSA\", \"keySize\": 512},\n",
    "    {\"algorithm\": \"RSA\", \"keySize\": 1024},\n",
    "    {\"algorithm\": \"RSA\", \"keySize\": 2048},\n",
    "    {\"algorithm\": \"RSA\", \"keySize\": 4096},\n",
    "    {\"algorithm\": \"RSA\", \"keySize\": 8192},\n",
    "    ]"
   ]
  },
  {
   "cell_type": "markdown",
   "metadata": {},
   "source": [
    "Next, we generate the 'threat report' using the `generate_report` method. This makes many quantum resource estimates and so may take a while to run depending on the algorithm implementation, number of entries in the hardware roadmap, key sizes, etc."
   ]
  },
  {
   "cell_type": "code",
   "execution_count": 6,
   "metadata": {},
   "outputs": [],
   "source": [
    "lifespan_estimator.generate_report(protocols=protocols)"
   ]
  },
  {
   "cell_type": "markdown",
   "metadata": {},
   "source": [
    "We can view the threat report using the `get_report` method.\n",
    "\n",
    "Note that in general there are several threats associated with each cryptographic protocol. This is because there are many degrees of freedom in choosing the space-time tradeoff when implementing Shor's algorithm. For example, some implementations may use fewer qubits but take longer to run compared to others. Thus, the QTT outputs all possible threats, including those which minimise qubit count and those which minimise algorithm runtime.\n",
    "\n",
    "The `soonest_threat_only` argument in the `get_report` function removes all threats in the threat lists except those with the soonest timestamp. Here we display the data with this option enabled for readability."
   ]
  },
  {
   "cell_type": "code",
   "execution_count": 7,
   "metadata": {},
   "outputs": [
    {
     "data": {
      "text/plain": [
       "[{'protocol': 'RSA-512',\n",
       "  'threats': [{'timestamp': 2366409600, 'runtime': 2693844172800}]},\n",
       " {'protocol': 'RSA-1024',\n",
       "  'threats': [{'timestamp': 2429481600, 'runtime': 9027209769600}]},\n",
       " {'protocol': 'RSA-2048',\n",
       "  'threats': [{'timestamp': 2555625600, 'runtime': 47839489588800}]},\n",
       " {'protocol': 'RSA-4096',\n",
       "  'threats': [{'timestamp': 2618697600, 'runtime': 301441273036800}]},\n",
       " {'protocol': 'RSA-8192',\n",
       "  'threats': [{'timestamp': 2681769600, 'runtime': 3401211242520000}]}]"
      ]
     },
     "execution_count": 7,
     "metadata": {},
     "output_type": "execute_result"
    }
   ],
   "source": [
    "lifespan_estimator.get_report(detail_level=1, soonest_threat_only=True)"
   ]
  },
  {
   "cell_type": "markdown",
   "metadata": {},
   "source": [
    "The QTT is also able to graphically represent its output by calling `plot_threats()`."
   ]
  },
  {
   "cell_type": "code",
   "execution_count": 8,
   "metadata": {},
   "outputs": [
    {
     "data": {
      "image/png": "[encoded data removed]",
      "text/plain": [
       "<Figure size 640x480 with 1 Axes>"
      ]
     },
     "metadata": {},
     "output_type": "display_data"
    }
   ],
   "source": [
    "import matplotlib.pyplot as plt\n",
    "\n",
    "ax = lifespan_estimator.plot_threats()\n",
    "plt.show()"
   ]
  }
 ],
 "metadata": {
  "kernelspec": {
   "display_name": ".venv",
   "language": "python",
   "name": "python3"
  },
  "language_info": {
   "codemirror_mode": {
    "name": "ipython",
    "version": 3
   },
   "file_extension": ".py",
   "mimetype": "text/x-python",
   "name": "python",
   "nbconvert_exporter": "python",
   "pygments_lexer": "ipython3",
   "version": "3.12.9"
  }
 },
 "nbformat": 4,
 "nbformat_minor": 2
}
