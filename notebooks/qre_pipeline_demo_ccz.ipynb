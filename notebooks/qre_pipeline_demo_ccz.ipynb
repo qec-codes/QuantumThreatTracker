{
 "cells": [
  {
   "cell_type": "code",
   "execution_count": 1,
   "metadata": {},
   "outputs": [
    {
     "data": {
      "application/javascript": "// Copyright (c) Microsoft Corporation.\n// Licensed under the MIT License.\n\n// This file provides CodeMirror syntax highlighting for Q# magic cells\n// in classic Jupyter Notebooks. It does nothing in other (Jupyter Notebook 7,\n// VS Code, Azure Notebooks, etc.) environments.\n\n// Detect the prerequisites and do nothing if they don't exist.\nif (window.require && window.CodeMirror && window.Jupyter) {\n  // The simple mode plugin for CodeMirror is not loaded by default, so require it.\n  window.require([\"codemirror/addon/mode/simple\"], function defineMode() {\n    let rules = [\n      {\n        token: \"comment\",\n        regex: /(\\/\\/).*/,\n        beginWord: false,\n      },\n      {\n        token: \"string\",\n        regex: String.raw`^\\\"(?:[^\\\"\\\\]|\\\\[\\s\\S])*(?:\\\"|$)`,\n        beginWord: false,\n      },\n      {\n        token: \"keyword\",\n        regex: String.raw`(namespace|open|as|operation|function|body|adjoint|newtype|controlled|internal)\\b`,\n        beginWord: true,\n      },\n      {\n        token: \"keyword\",\n        regex: String.raw`(if|elif|else|repeat|until|fixup|for|in|return|fail|within|apply)\\b`,\n        beginWord: true,\n      },\n      {\n        token: \"keyword\",\n        regex: String.raw`(Adjoint|Controlled|Adj|Ctl|is|self|auto|distribute|invert|intrinsic)\\b`,\n        beginWord: true,\n      },\n      {\n        token: \"keyword\",\n        regex: String.raw`(let|set|use|borrow|mutable)\\b`,\n        beginWord: true,\n      },\n      {\n        token: \"operatorKeyword\",\n        regex: String.raw`(not|and|or)\\b|(w/)`,\n        beginWord: true,\n      },\n      {\n        token: \"operatorKeyword\",\n        regex: String.raw`(=)|(!)|(<)|(>)|(\\+)|(-)|(\\*)|(/)|(\\^)|(%)|(\\|)|(&&&)|(~~~)|(\\.\\.\\.)|(\\.\\.)|(\\?)`,\n        beginWord: false,\n      },\n      {\n        token: \"meta\",\n        regex: String.raw`(Int|BigInt|Double|Bool|Qubit|Pauli|Result|Range|String|Unit)\\b`,\n        beginWord: true,\n      },\n      {\n        token: \"atom\",\n        regex: String.raw`(true|false|Pauli(I|X|Y|Z)|One|Zero)\\b`,\n        beginWord: true,\n      },\n    ];\n    let simpleRules = [];\n    for (let rule of rules) {\n      simpleRules.push({\n        token: rule.token,\n        regex: new RegExp(rule.regex, \"g\"),\n        sol: rule.beginWord,\n      });\n      if (rule.beginWord) {\n        // Need an additional rule due to the fact that CodeMirror simple mode doesn't work with ^ token\n        simpleRules.push({\n          token: rule.token,\n          regex: new RegExp(String.raw`\\W` + rule.regex, \"g\"),\n          sol: false,\n        });\n      }\n    }\n\n    // Register the mode defined above with CodeMirror\n    window.CodeMirror.defineSimpleMode(\"qsharp\", { start: simpleRules });\n    window.CodeMirror.defineMIME(\"text/x-qsharp\", \"qsharp\");\n\n    // Tell Jupyter to associate %%qsharp magic cells with the qsharp mode\n    window.Jupyter.CodeCell.options_default.highlight_modes[\"qsharp\"] = {\n      reg: [/^%%qsharp/],\n    };\n\n    // Force re-highlighting of all cells the first time this code runs\n    for (const cell of window.Jupyter.notebook.get_cells()) {\n      cell.auto_highlight();\n    }\n  });\n}\n",
      "text/plain": []
     },
     "metadata": {},
     "output_type": "display_data"
    }
   ],
   "source": [
    "import itertools\n",
    "\n",
    "import numpy as np\n",
    "from qualtran import QUInt\n",
    "from qualtran.bloqs.mod_arithmetic import CModMulK\n",
    "from qualtran.surface_code import (\n",
    "    AlgorithmSummary,\n",
    "    CompactDataBlock,\n",
    "    FastDataBlock,\n",
    "    PhysicalCostModel,\n",
    "    PhysicalParameters,\n",
    "    QECScheme,\n",
    "    SimpleDataBlock,\n",
    ")\n"
   ]
  },
  {
   "cell_type": "markdown",
   "metadata": {},
   "source": [
    "**Step 1**: Define key size"
   ]
  },
  {
   "cell_type": "code",
   "execution_count": 2,
   "metadata": {},
   "outputs": [],
   "source": [
    "key_size = 2048"
   ]
  },
  {
   "cell_type": "markdown",
   "metadata": {},
   "source": [
    "**Step 2.** Create the Bloq which defines the subcircuit dominating the resource cost of the algorithm. In this case (and most cases) it is the controlled modular multiplier.\n",
    "\n",
    "- `modulus` is the integer to be factored. Since the resource cost is (usually) the same for any $n$-bit integer, for simplicity we take it to be $N = 2^n - 1$.\n",
    "- `multiplicand` is the classically pre-computed constant which is multiplied by the value in the quantum register, i.e., the number $a$ in the quantum computation $\\ket{x} \\mapsto \\ket{ax \\mod N}$.<br>The resource cost of the controlled modular multiplier is also (usually) invariant in the value of $a$. Since $a$ must be coprime to $N$, for simplicity we take it to be $a = N - 1 = 2^n - 2$."
   ]
  },
  {
   "cell_type": "code",
   "execution_count": 3,
   "metadata": {},
   "outputs": [],
   "source": [
    "modulus = 2**key_size - 1\n",
    "multiplicand = 2**key_size - 2\n",
    "\n",
    "mod_mul = CModMulK(dtype=QUInt(key_size), k=multiplicand, mod=modulus)"
   ]
  },
  {
   "cell_type": "markdown",
   "metadata": {},
   "source": [
    "**Step 3.** Compute the number of times the subcircuit is repeated in the entire algorithm. To again match the implementation of [Gidney and Ekerå](https://doi.org/10.22331/q-2021-04-15-433), we take this to be $1.5 n$."
   ]
  },
  {
   "cell_type": "code",
   "execution_count": 4,
   "metadata": {},
   "outputs": [],
   "source": [
    "subcircuit_reps = int(1.5 * key_size)"
   ]
  },
  {
   "cell_type": "markdown",
   "metadata": {},
   "source": [
    "**Step 4.** Convert logical resource estimates from the circuit defined by Qualtran Bloqs into a format that can be input to Microsoft's Azure Quantum Resource Estimator.\n",
    "\n",
    "*Note: this steps takes a while! (About 1 min)*"
   ]
  },
  {
   "cell_type": "code",
   "execution_count": 5,
   "metadata": {},
   "outputs": [
    {
     "ename": "KeyboardInterrupt",
     "evalue": "",
     "output_type": "error",
     "traceback": [
      "\u001b[0;31m---------------------------------------------------------------------------\u001b[0m",
      "\u001b[0;31mKeyboardInterrupt\u001b[0m                         Traceback (most recent call last)",
      "Cell \u001b[0;32mIn[5], line 1\u001b[0m\n\u001b[0;32m----> 1\u001b[0m alg_controlled_mod_mul \u001b[38;5;241m=\u001b[39m \u001b[43mAlgorithmSummary\u001b[49m\u001b[38;5;241;43m.\u001b[39;49m\u001b[43mfrom_bloq\u001b[49m\u001b[43m(\u001b[49m\u001b[43mmod_mul\u001b[49m\u001b[43m)\u001b[49m\n\u001b[1;32m      2\u001b[0m alg_controlled_mod_mul\n",
      "File \u001b[0;32m~/Documents/git-repos/QuantumThreatTracker/.venv/lib/python3.12/site-packages/qualtran/surface_code/algorithm_summary.py:47\u001b[0m, in \u001b[0;36mAlgorithmSummary.from_bloq\u001b[0;34m(bloq)\u001b[0m\n\u001b[1;32m     44\u001b[0m \u001b[38;5;129m@staticmethod\u001b[39m\n\u001b[1;32m     45\u001b[0m \u001b[38;5;28;01mdef\u001b[39;00m \u001b[38;5;21mfrom_bloq\u001b[39m(bloq: \u001b[38;5;124m'\u001b[39m\u001b[38;5;124mBloq\u001b[39m\u001b[38;5;124m'\u001b[39m) \u001b[38;5;241m-\u001b[39m\u001b[38;5;241m>\u001b[39m \u001b[38;5;124m'\u001b[39m\u001b[38;5;124mAlgorithmSummary\u001b[39m\u001b[38;5;124m'\u001b[39m:\n\u001b[1;32m     46\u001b[0m     gate_count \u001b[38;5;241m=\u001b[39m get_cost_value(bloq, _QEC_COUNT)\n\u001b[0;32m---> 47\u001b[0m     qubit_count \u001b[38;5;241m=\u001b[39m \u001b[38;5;28mint\u001b[39m(\u001b[43mget_cost_value\u001b[49m\u001b[43m(\u001b[49m\u001b[43mbloq\u001b[49m\u001b[43m,\u001b[49m\u001b[43m \u001b[49m\u001b[43m_QUBIT_COUNT\u001b[49m\u001b[43m)\u001b[49m)\n\u001b[1;32m     48\u001b[0m     \u001b[38;5;28;01mreturn\u001b[39;00m AlgorithmSummary(n_algo_qubits\u001b[38;5;241m=\u001b[39mqubit_count, n_logical_gates\u001b[38;5;241m=\u001b[39mgate_count)\n",
      "File \u001b[0;32m~/Documents/git-repos/QuantumThreatTracker/.venv/lib/python3.12/site-packages/qualtran/resource_counting/_costing.py:183\u001b[0m, in \u001b[0;36mget_cost_value\u001b[0;34m(bloq, cost_key, costs_cache, generalizer)\u001b[0m\n\u001b[1;32m    180\u001b[0m \u001b[38;5;28;01mif\u001b[39;00m \u001b[38;5;28misinstance\u001b[39m(generalizer, collections\u001b[38;5;241m.\u001b[39mabc\u001b[38;5;241m.\u001b[39mSequence):\n\u001b[1;32m    181\u001b[0m     generalizer \u001b[38;5;241m=\u001b[39m _make_composite_generalizer(\u001b[38;5;241m*\u001b[39mgeneralizer)\n\u001b[0;32m--> 183\u001b[0m cost_val \u001b[38;5;241m=\u001b[39m \u001b[43m_get_cost_value\u001b[49m\u001b[43m(\u001b[49m\u001b[43mbloq\u001b[49m\u001b[43m,\u001b[49m\u001b[43m \u001b[49m\u001b[43mcost_key\u001b[49m\u001b[43m,\u001b[49m\u001b[43m \u001b[49m\u001b[43mcosts_cache\u001b[49m\u001b[38;5;241;43m=\u001b[39;49m\u001b[43mcosts_cache\u001b[49m\u001b[43m,\u001b[49m\u001b[43m \u001b[49m\u001b[43mgeneralizer\u001b[49m\u001b[38;5;241;43m=\u001b[39;49m\u001b[43mgeneralizer\u001b[49m\u001b[43m)\u001b[49m\n\u001b[1;32m    184\u001b[0m \u001b[38;5;28;01mreturn\u001b[39;00m cost_val\n",
      "File \u001b[0;32m~/Documents/git-repos/QuantumThreatTracker/.venv/lib/python3.12/site-packages/qualtran/resource_counting/_costing.py:146\u001b[0m, in \u001b[0;36m_get_cost_value\u001b[0;34m(bloq, cost_key, costs_cache, generalizer)\u001b[0m\n\u001b[1;32m    144\u001b[0m \u001b[38;5;66;03m# part b. call the compute method and cache the result.\u001b[39;00m\n\u001b[1;32m    145\u001b[0m tstart \u001b[38;5;241m=\u001b[39m time\u001b[38;5;241m.\u001b[39mperf_counter()\n\u001b[0;32m--> 146\u001b[0m computed_cost \u001b[38;5;241m=\u001b[39m \u001b[43mcost_key\u001b[49m\u001b[38;5;241;43m.\u001b[39;49m\u001b[43mcompute\u001b[49m\u001b[43m(\u001b[49m\u001b[43mbloq\u001b[49m\u001b[43m,\u001b[49m\u001b[43m \u001b[49m\u001b[43m_get_cost_val_internal\u001b[49m\u001b[43m)\u001b[49m\n\u001b[1;32m    147\u001b[0m tdur \u001b[38;5;241m=\u001b[39m time\u001b[38;5;241m.\u001b[39mperf_counter() \u001b[38;5;241m-\u001b[39m tstart\n\u001b[1;32m    148\u001b[0m logger\u001b[38;5;241m.\u001b[39minfo(\u001b[38;5;124m\"\u001b[39m\u001b[38;5;124mComputed \u001b[39m\u001b[38;5;132;01m%s\u001b[39;00m\u001b[38;5;124m for \u001b[39m\u001b[38;5;132;01m%s\u001b[39;00m\u001b[38;5;124m in \u001b[39m\u001b[38;5;132;01m%g\u001b[39;00m\u001b[38;5;124m s\u001b[39m\u001b[38;5;124m\"\u001b[39m, cost_key, bloq, tdur)\n",
      "File \u001b[0;32m~/Documents/git-repos/QuantumThreatTracker/.venv/lib/python3.12/site-packages/qualtran/resource_counting/_qubit_counts.py:113\u001b[0m, in \u001b[0;36mQubitCount.compute\u001b[0;34m(self, bloq, get_callee_cost)\u001b[0m\n\u001b[1;32m    111\u001b[0m     cbloq \u001b[38;5;241m=\u001b[39m bloq\u001b[38;5;241m.\u001b[39mdecompose_bloq()\n\u001b[1;32m    112\u001b[0m     logger\u001b[38;5;241m.\u001b[39minfo(\u001b[38;5;124m\"\u001b[39m\u001b[38;5;124mComputing \u001b[39m\u001b[38;5;132;01m%s\u001b[39;00m\u001b[38;5;124m for \u001b[39m\u001b[38;5;132;01m%s\u001b[39;00m\u001b[38;5;124m from its decomposition\u001b[39m\u001b[38;5;124m\"\u001b[39m, \u001b[38;5;28mself\u001b[39m, bloq)\n\u001b[0;32m--> 113\u001b[0m     \u001b[38;5;28;01mreturn\u001b[39;00m \u001b[43m_cbloq_max_width\u001b[49m\u001b[43m(\u001b[49m\u001b[43mcbloq\u001b[49m\u001b[38;5;241;43m.\u001b[39;49m\u001b[43m_binst_graph\u001b[49m\u001b[43m,\u001b[49m\u001b[43m \u001b[49m\u001b[43mget_callee_cost\u001b[49m\u001b[43m)\u001b[49m\n\u001b[1;32m    114\u001b[0m \u001b[38;5;28;01mexcept\u001b[39;00m (DecomposeNotImplementedError, DecomposeTypeError):\n\u001b[1;32m    115\u001b[0m     \u001b[38;5;28;01mpass\u001b[39;00m\n",
      "File \u001b[0;32m~/Documents/git-repos/QuantumThreatTracker/.venv/lib/python3.12/site-packages/qualtran/resource_counting/_qubit_counts.py:60\u001b[0m, in \u001b[0;36m_cbloq_max_width\u001b[0;34m(binst_graph, _bloq_max_width)\u001b[0m\n\u001b[1;32m     54\u001b[0m     in_play\u001b[38;5;241m.\u001b[39mremove(cxn)\n\u001b[1;32m     56\u001b[0m \u001b[38;5;28;01mif\u001b[39;00m \u001b[38;5;129;01mnot\u001b[39;00m \u001b[38;5;28misinstance\u001b[39m(binst, DanglingT):\n\u001b[1;32m     57\u001b[0m     \u001b[38;5;66;03m# During the application of the binst, we have \"observer\" connections that have\u001b[39;00m\n\u001b[1;32m     58\u001b[0m     \u001b[38;5;66;03m# width as well as the width from the binst itself. We consider the case where\u001b[39;00m\n\u001b[1;32m     59\u001b[0m     \u001b[38;5;66;03m# the bloq may have a max_width greater than the max of its left/right registers.\u001b[39;00m\n\u001b[0;32m---> 60\u001b[0m     during_size \u001b[38;5;241m=\u001b[39m \u001b[43m_bloq_max_width\u001b[49m\u001b[43m(\u001b[49m\u001b[43mbinst\u001b[49m\u001b[38;5;241;43m.\u001b[39;49m\u001b[43mbloq\u001b[49m\u001b[43m)\u001b[49m \u001b[38;5;241m+\u001b[39m \u001b[38;5;28msum\u001b[39m(s\u001b[38;5;241m.\u001b[39mshape \u001b[38;5;28;01mfor\u001b[39;00m s \u001b[38;5;129;01min\u001b[39;00m in_play)\n\u001b[1;32m     61\u001b[0m     max_width \u001b[38;5;241m=\u001b[39m smax(max_width, during_size)\n\u001b[1;32m     63\u001b[0m \u001b[38;5;66;03m# After the binst, its successor connections are 'in play'.\u001b[39;00m\n",
      "File \u001b[0;32m~/Documents/git-repos/QuantumThreatTracker/.venv/lib/python3.12/site-packages/qualtran/resource_counting/_costing.py:142\u001b[0m, in \u001b[0;36m_get_cost_value.<locals>._get_cost_val_internal\u001b[0;34m(callee)\u001b[0m\n\u001b[1;32m    141\u001b[0m \u001b[38;5;28;01mdef\u001b[39;00m \u001b[38;5;21m_get_cost_val_internal\u001b[39m(callee: \u001b[38;5;124m'\u001b[39m\u001b[38;5;124mBloq\u001b[39m\u001b[38;5;124m'\u001b[39m):\n\u001b[0;32m--> 142\u001b[0m     \u001b[38;5;28;01mreturn\u001b[39;00m \u001b[43m_get_cost_value\u001b[49m\u001b[43m(\u001b[49m\u001b[43mcallee\u001b[49m\u001b[43m,\u001b[49m\u001b[43m \u001b[49m\u001b[43mcost_key\u001b[49m\u001b[43m,\u001b[49m\u001b[43m \u001b[49m\u001b[43mcosts_cache\u001b[49m\u001b[38;5;241;43m=\u001b[39;49m\u001b[43mcosts_cache\u001b[49m\u001b[43m,\u001b[49m\u001b[43m \u001b[49m\u001b[43mgeneralizer\u001b[49m\u001b[38;5;241;43m=\u001b[39;49m\u001b[43mgeneralizer\u001b[49m\u001b[43m)\u001b[49m\n",
      "File \u001b[0;32m~/Documents/git-repos/QuantumThreatTracker/.venv/lib/python3.12/site-packages/qualtran/resource_counting/_costing.py:146\u001b[0m, in \u001b[0;36m_get_cost_value\u001b[0;34m(bloq, cost_key, costs_cache, generalizer)\u001b[0m\n\u001b[1;32m    144\u001b[0m \u001b[38;5;66;03m# part b. call the compute method and cache the result.\u001b[39;00m\n\u001b[1;32m    145\u001b[0m tstart \u001b[38;5;241m=\u001b[39m time\u001b[38;5;241m.\u001b[39mperf_counter()\n\u001b[0;32m--> 146\u001b[0m computed_cost \u001b[38;5;241m=\u001b[39m \u001b[43mcost_key\u001b[49m\u001b[38;5;241;43m.\u001b[39;49m\u001b[43mcompute\u001b[49m\u001b[43m(\u001b[49m\u001b[43mbloq\u001b[49m\u001b[43m,\u001b[49m\u001b[43m \u001b[49m\u001b[43m_get_cost_val_internal\u001b[49m\u001b[43m)\u001b[49m\n\u001b[1;32m    147\u001b[0m tdur \u001b[38;5;241m=\u001b[39m time\u001b[38;5;241m.\u001b[39mperf_counter() \u001b[38;5;241m-\u001b[39m tstart\n\u001b[1;32m    148\u001b[0m logger\u001b[38;5;241m.\u001b[39minfo(\u001b[38;5;124m\"\u001b[39m\u001b[38;5;124mComputed \u001b[39m\u001b[38;5;132;01m%s\u001b[39;00m\u001b[38;5;124m for \u001b[39m\u001b[38;5;132;01m%s\u001b[39;00m\u001b[38;5;124m in \u001b[39m\u001b[38;5;132;01m%g\u001b[39;00m\u001b[38;5;124m s\u001b[39m\u001b[38;5;124m\"\u001b[39m, cost_key, bloq, tdur)\n",
      "File \u001b[0;32m~/Documents/git-repos/QuantumThreatTracker/.venv/lib/python3.12/site-packages/qualtran/resource_counting/_qubit_counts.py:130\u001b[0m, in \u001b[0;36mQubitCount.compute\u001b[0;34m(self, bloq, get_callee_cost)\u001b[0m\n\u001b[1;32m    128\u001b[0m logger\u001b[38;5;241m.\u001b[39minfo(\u001b[38;5;124m\"\u001b[39m\u001b[38;5;124mComputing \u001b[39m\u001b[38;5;132;01m%s\u001b[39;00m\u001b[38;5;124m for \u001b[39m\u001b[38;5;132;01m%s\u001b[39;00m\u001b[38;5;124m from \u001b[39m\u001b[38;5;132;01m%d\u001b[39;00m\u001b[38;5;124m callee(s)\u001b[39m\u001b[38;5;124m\"\u001b[39m, \u001b[38;5;28mself\u001b[39m, bloq, \u001b[38;5;28mlen\u001b[39m(callees))\n\u001b[1;32m    129\u001b[0m \u001b[38;5;28;01mfor\u001b[39;00m callee, n \u001b[38;5;129;01min\u001b[39;00m callees:\n\u001b[0;32m--> 130\u001b[0m     tot \u001b[38;5;241m=\u001b[39m smax(tot, \u001b[43mget_callee_cost\u001b[49m\u001b[43m(\u001b[49m\u001b[43mcallee\u001b[49m\u001b[43m)\u001b[49m)\n\u001b[1;32m    131\u001b[0m \u001b[38;5;28;01mreturn\u001b[39;00m tot\n",
      "File \u001b[0;32m~/Documents/git-repos/QuantumThreatTracker/.venv/lib/python3.12/site-packages/qualtran/resource_counting/_costing.py:142\u001b[0m, in \u001b[0;36m_get_cost_value.<locals>._get_cost_val_internal\u001b[0;34m(callee)\u001b[0m\n\u001b[1;32m    141\u001b[0m \u001b[38;5;28;01mdef\u001b[39;00m \u001b[38;5;21m_get_cost_val_internal\u001b[39m(callee: \u001b[38;5;124m'\u001b[39m\u001b[38;5;124mBloq\u001b[39m\u001b[38;5;124m'\u001b[39m):\n\u001b[0;32m--> 142\u001b[0m     \u001b[38;5;28;01mreturn\u001b[39;00m \u001b[43m_get_cost_value\u001b[49m\u001b[43m(\u001b[49m\u001b[43mcallee\u001b[49m\u001b[43m,\u001b[49m\u001b[43m \u001b[49m\u001b[43mcost_key\u001b[49m\u001b[43m,\u001b[49m\u001b[43m \u001b[49m\u001b[43mcosts_cache\u001b[49m\u001b[38;5;241;43m=\u001b[39;49m\u001b[43mcosts_cache\u001b[49m\u001b[43m,\u001b[49m\u001b[43m \u001b[49m\u001b[43mgeneralizer\u001b[49m\u001b[38;5;241;43m=\u001b[39;49m\u001b[43mgeneralizer\u001b[49m\u001b[43m)\u001b[49m\n",
      "File \u001b[0;32m~/Documents/git-repos/QuantumThreatTracker/.venv/lib/python3.12/site-packages/qualtran/resource_counting/_costing.py:146\u001b[0m, in \u001b[0;36m_get_cost_value\u001b[0;34m(bloq, cost_key, costs_cache, generalizer)\u001b[0m\n\u001b[1;32m    144\u001b[0m \u001b[38;5;66;03m# part b. call the compute method and cache the result.\u001b[39;00m\n\u001b[1;32m    145\u001b[0m tstart \u001b[38;5;241m=\u001b[39m time\u001b[38;5;241m.\u001b[39mperf_counter()\n\u001b[0;32m--> 146\u001b[0m computed_cost \u001b[38;5;241m=\u001b[39m \u001b[43mcost_key\u001b[49m\u001b[38;5;241;43m.\u001b[39;49m\u001b[43mcompute\u001b[49m\u001b[43m(\u001b[49m\u001b[43mbloq\u001b[49m\u001b[43m,\u001b[49m\u001b[43m \u001b[49m\u001b[43m_get_cost_val_internal\u001b[49m\u001b[43m)\u001b[49m\n\u001b[1;32m    147\u001b[0m tdur \u001b[38;5;241m=\u001b[39m time\u001b[38;5;241m.\u001b[39mperf_counter() \u001b[38;5;241m-\u001b[39m tstart\n\u001b[1;32m    148\u001b[0m logger\u001b[38;5;241m.\u001b[39minfo(\u001b[38;5;124m\"\u001b[39m\u001b[38;5;124mComputed \u001b[39m\u001b[38;5;132;01m%s\u001b[39;00m\u001b[38;5;124m for \u001b[39m\u001b[38;5;132;01m%s\u001b[39;00m\u001b[38;5;124m in \u001b[39m\u001b[38;5;132;01m%g\u001b[39;00m\u001b[38;5;124m s\u001b[39m\u001b[38;5;124m\"\u001b[39m, cost_key, bloq, tdur)\n",
      "File \u001b[0;32m~/Documents/git-repos/QuantumThreatTracker/.venv/lib/python3.12/site-packages/qualtran/resource_counting/_qubit_counts.py:130\u001b[0m, in \u001b[0;36mQubitCount.compute\u001b[0;34m(self, bloq, get_callee_cost)\u001b[0m\n\u001b[1;32m    128\u001b[0m logger\u001b[38;5;241m.\u001b[39minfo(\u001b[38;5;124m\"\u001b[39m\u001b[38;5;124mComputing \u001b[39m\u001b[38;5;132;01m%s\u001b[39;00m\u001b[38;5;124m for \u001b[39m\u001b[38;5;132;01m%s\u001b[39;00m\u001b[38;5;124m from \u001b[39m\u001b[38;5;132;01m%d\u001b[39;00m\u001b[38;5;124m callee(s)\u001b[39m\u001b[38;5;124m\"\u001b[39m, \u001b[38;5;28mself\u001b[39m, bloq, \u001b[38;5;28mlen\u001b[39m(callees))\n\u001b[1;32m    129\u001b[0m \u001b[38;5;28;01mfor\u001b[39;00m callee, n \u001b[38;5;129;01min\u001b[39;00m callees:\n\u001b[0;32m--> 130\u001b[0m     tot \u001b[38;5;241m=\u001b[39m smax(tot, \u001b[43mget_callee_cost\u001b[49m\u001b[43m(\u001b[49m\u001b[43mcallee\u001b[49m\u001b[43m)\u001b[49m)\n\u001b[1;32m    131\u001b[0m \u001b[38;5;28;01mreturn\u001b[39;00m tot\n",
      "File \u001b[0;32m~/Documents/git-repos/QuantumThreatTracker/.venv/lib/python3.12/site-packages/qualtran/resource_counting/_costing.py:142\u001b[0m, in \u001b[0;36m_get_cost_value.<locals>._get_cost_val_internal\u001b[0;34m(callee)\u001b[0m\n\u001b[1;32m    141\u001b[0m \u001b[38;5;28;01mdef\u001b[39;00m \u001b[38;5;21m_get_cost_val_internal\u001b[39m(callee: \u001b[38;5;124m'\u001b[39m\u001b[38;5;124mBloq\u001b[39m\u001b[38;5;124m'\u001b[39m):\n\u001b[0;32m--> 142\u001b[0m     \u001b[38;5;28;01mreturn\u001b[39;00m \u001b[43m_get_cost_value\u001b[49m\u001b[43m(\u001b[49m\u001b[43mcallee\u001b[49m\u001b[43m,\u001b[49m\u001b[43m \u001b[49m\u001b[43mcost_key\u001b[49m\u001b[43m,\u001b[49m\u001b[43m \u001b[49m\u001b[43mcosts_cache\u001b[49m\u001b[38;5;241;43m=\u001b[39;49m\u001b[43mcosts_cache\u001b[49m\u001b[43m,\u001b[49m\u001b[43m \u001b[49m\u001b[43mgeneralizer\u001b[49m\u001b[38;5;241;43m=\u001b[39;49m\u001b[43mgeneralizer\u001b[49m\u001b[43m)\u001b[49m\n",
      "File \u001b[0;32m~/Documents/git-repos/QuantumThreatTracker/.venv/lib/python3.12/site-packages/qualtran/resource_counting/_costing.py:146\u001b[0m, in \u001b[0;36m_get_cost_value\u001b[0;34m(bloq, cost_key, costs_cache, generalizer)\u001b[0m\n\u001b[1;32m    144\u001b[0m \u001b[38;5;66;03m# part b. call the compute method and cache the result.\u001b[39;00m\n\u001b[1;32m    145\u001b[0m tstart \u001b[38;5;241m=\u001b[39m time\u001b[38;5;241m.\u001b[39mperf_counter()\n\u001b[0;32m--> 146\u001b[0m computed_cost \u001b[38;5;241m=\u001b[39m \u001b[43mcost_key\u001b[49m\u001b[38;5;241;43m.\u001b[39;49m\u001b[43mcompute\u001b[49m\u001b[43m(\u001b[49m\u001b[43mbloq\u001b[49m\u001b[43m,\u001b[49m\u001b[43m \u001b[49m\u001b[43m_get_cost_val_internal\u001b[49m\u001b[43m)\u001b[49m\n\u001b[1;32m    147\u001b[0m tdur \u001b[38;5;241m=\u001b[39m time\u001b[38;5;241m.\u001b[39mperf_counter() \u001b[38;5;241m-\u001b[39m tstart\n\u001b[1;32m    148\u001b[0m logger\u001b[38;5;241m.\u001b[39minfo(\u001b[38;5;124m\"\u001b[39m\u001b[38;5;124mComputed \u001b[39m\u001b[38;5;132;01m%s\u001b[39;00m\u001b[38;5;124m for \u001b[39m\u001b[38;5;132;01m%s\u001b[39;00m\u001b[38;5;124m in \u001b[39m\u001b[38;5;132;01m%g\u001b[39;00m\u001b[38;5;124m s\u001b[39m\u001b[38;5;124m\"\u001b[39m, cost_key, bloq, tdur)\n",
      "File \u001b[0;32m~/Documents/git-repos/QuantumThreatTracker/.venv/lib/python3.12/site-packages/qualtran/resource_counting/_qubit_counts.py:130\u001b[0m, in \u001b[0;36mQubitCount.compute\u001b[0;34m(self, bloq, get_callee_cost)\u001b[0m\n\u001b[1;32m    128\u001b[0m logger\u001b[38;5;241m.\u001b[39minfo(\u001b[38;5;124m\"\u001b[39m\u001b[38;5;124mComputing \u001b[39m\u001b[38;5;132;01m%s\u001b[39;00m\u001b[38;5;124m for \u001b[39m\u001b[38;5;132;01m%s\u001b[39;00m\u001b[38;5;124m from \u001b[39m\u001b[38;5;132;01m%d\u001b[39;00m\u001b[38;5;124m callee(s)\u001b[39m\u001b[38;5;124m\"\u001b[39m, \u001b[38;5;28mself\u001b[39m, bloq, \u001b[38;5;28mlen\u001b[39m(callees))\n\u001b[1;32m    129\u001b[0m \u001b[38;5;28;01mfor\u001b[39;00m callee, n \u001b[38;5;129;01min\u001b[39;00m callees:\n\u001b[0;32m--> 130\u001b[0m     tot \u001b[38;5;241m=\u001b[39m smax(tot, \u001b[43mget_callee_cost\u001b[49m\u001b[43m(\u001b[49m\u001b[43mcallee\u001b[49m\u001b[43m)\u001b[49m)\n\u001b[1;32m    131\u001b[0m \u001b[38;5;28;01mreturn\u001b[39;00m tot\n",
      "File \u001b[0;32m~/Documents/git-repos/QuantumThreatTracker/.venv/lib/python3.12/site-packages/qualtran/resource_counting/_costing.py:142\u001b[0m, in \u001b[0;36m_get_cost_value.<locals>._get_cost_val_internal\u001b[0;34m(callee)\u001b[0m\n\u001b[1;32m    141\u001b[0m \u001b[38;5;28;01mdef\u001b[39;00m \u001b[38;5;21m_get_cost_val_internal\u001b[39m(callee: \u001b[38;5;124m'\u001b[39m\u001b[38;5;124mBloq\u001b[39m\u001b[38;5;124m'\u001b[39m):\n\u001b[0;32m--> 142\u001b[0m     \u001b[38;5;28;01mreturn\u001b[39;00m \u001b[43m_get_cost_value\u001b[49m\u001b[43m(\u001b[49m\u001b[43mcallee\u001b[49m\u001b[43m,\u001b[49m\u001b[43m \u001b[49m\u001b[43mcost_key\u001b[49m\u001b[43m,\u001b[49m\u001b[43m \u001b[49m\u001b[43mcosts_cache\u001b[49m\u001b[38;5;241;43m=\u001b[39;49m\u001b[43mcosts_cache\u001b[49m\u001b[43m,\u001b[49m\u001b[43m \u001b[49m\u001b[43mgeneralizer\u001b[49m\u001b[38;5;241;43m=\u001b[39;49m\u001b[43mgeneralizer\u001b[49m\u001b[43m)\u001b[49m\n",
      "File \u001b[0;32m~/Documents/git-repos/QuantumThreatTracker/.venv/lib/python3.12/site-packages/qualtran/resource_counting/_costing.py:146\u001b[0m, in \u001b[0;36m_get_cost_value\u001b[0;34m(bloq, cost_key, costs_cache, generalizer)\u001b[0m\n\u001b[1;32m    144\u001b[0m \u001b[38;5;66;03m# part b. call the compute method and cache the result.\u001b[39;00m\n\u001b[1;32m    145\u001b[0m tstart \u001b[38;5;241m=\u001b[39m time\u001b[38;5;241m.\u001b[39mperf_counter()\n\u001b[0;32m--> 146\u001b[0m computed_cost \u001b[38;5;241m=\u001b[39m \u001b[43mcost_key\u001b[49m\u001b[38;5;241;43m.\u001b[39;49m\u001b[43mcompute\u001b[49m\u001b[43m(\u001b[49m\u001b[43mbloq\u001b[49m\u001b[43m,\u001b[49m\u001b[43m \u001b[49m\u001b[43m_get_cost_val_internal\u001b[49m\u001b[43m)\u001b[49m\n\u001b[1;32m    147\u001b[0m tdur \u001b[38;5;241m=\u001b[39m time\u001b[38;5;241m.\u001b[39mperf_counter() \u001b[38;5;241m-\u001b[39m tstart\n\u001b[1;32m    148\u001b[0m logger\u001b[38;5;241m.\u001b[39minfo(\u001b[38;5;124m\"\u001b[39m\u001b[38;5;124mComputed \u001b[39m\u001b[38;5;132;01m%s\u001b[39;00m\u001b[38;5;124m for \u001b[39m\u001b[38;5;132;01m%s\u001b[39;00m\u001b[38;5;124m in \u001b[39m\u001b[38;5;132;01m%g\u001b[39;00m\u001b[38;5;124m s\u001b[39m\u001b[38;5;124m\"\u001b[39m, cost_key, bloq, tdur)\n",
      "File \u001b[0;32m~/Documents/git-repos/QuantumThreatTracker/.venv/lib/python3.12/site-packages/qualtran/resource_counting/_qubit_counts.py:111\u001b[0m, in \u001b[0;36mQubitCount.compute\u001b[0;34m(self, bloq, get_callee_cost)\u001b[0m\n\u001b[1;32m    109\u001b[0m     \u001b[38;5;28;01mreturn\u001b[39;00m _cbloq_max_width(bloq\u001b[38;5;241m.\u001b[39m_binst_graph, get_callee_cost)\n\u001b[1;32m    110\u001b[0m \u001b[38;5;28;01mtry\u001b[39;00m:\n\u001b[0;32m--> 111\u001b[0m     cbloq \u001b[38;5;241m=\u001b[39m \u001b[43mbloq\u001b[49m\u001b[38;5;241;43m.\u001b[39;49m\u001b[43mdecompose_bloq\u001b[49m\u001b[43m(\u001b[49m\u001b[43m)\u001b[49m\n\u001b[1;32m    112\u001b[0m     logger\u001b[38;5;241m.\u001b[39minfo(\u001b[38;5;124m\"\u001b[39m\u001b[38;5;124mComputing \u001b[39m\u001b[38;5;132;01m%s\u001b[39;00m\u001b[38;5;124m for \u001b[39m\u001b[38;5;132;01m%s\u001b[39;00m\u001b[38;5;124m from its decomposition\u001b[39m\u001b[38;5;124m\"\u001b[39m, \u001b[38;5;28mself\u001b[39m, bloq)\n\u001b[1;32m    113\u001b[0m     \u001b[38;5;28;01mreturn\u001b[39;00m _cbloq_max_width(cbloq\u001b[38;5;241m.\u001b[39m_binst_graph, get_callee_cost)\n",
      "File \u001b[0;32m~/Documents/git-repos/QuantumThreatTracker/.venv/lib/python3.12/site-packages/qualtran/bloqs/arithmetic/addition.py:130\u001b[0m, in \u001b[0;36mAdd.decompose_bloq\u001b[0;34m(self)\u001b[0m\n\u001b[1;32m    129\u001b[0m \u001b[38;5;28;01mdef\u001b[39;00m \u001b[38;5;21mdecompose_bloq\u001b[39m(\u001b[38;5;28mself\u001b[39m) \u001b[38;5;241m-\u001b[39m\u001b[38;5;241m>\u001b[39m \u001b[38;5;124m'\u001b[39m\u001b[38;5;124mCompositeBloq\u001b[39m\u001b[38;5;124m'\u001b[39m:\n\u001b[0;32m--> 130\u001b[0m     \u001b[38;5;28;01mreturn\u001b[39;00m \u001b[43mdecompose_from_cirq_style_method\u001b[49m\u001b[43m(\u001b[49m\u001b[38;5;28;43mself\u001b[39;49m\u001b[43m)\u001b[49m\n",
      "File \u001b[0;32m~/Documents/git-repos/QuantumThreatTracker/.venv/lib/python3.12/site-packages/qualtran/cirq_interop/_cirq_to_bloq.py:602\u001b[0m, in \u001b[0;36mdecompose_from_cirq_style_method\u001b[0;34m(bloq, method_name)\u001b[0m\n\u001b[1;32m    600\u001b[0m decomposed_optree \u001b[38;5;241m=\u001b[39m dfr_method(context\u001b[38;5;241m=\u001b[39mcontext, \u001b[38;5;241m*\u001b[39m\u001b[38;5;241m*\u001b[39mall_quregs)\n\u001b[1;32m    601\u001b[0m \u001b[38;5;28;01mtry\u001b[39;00m:\n\u001b[0;32m--> 602\u001b[0m     \u001b[38;5;28;01mreturn\u001b[39;00m \u001b[43mcirq_optree_to_cbloq\u001b[49m\u001b[43m(\u001b[49m\n\u001b[1;32m    603\u001b[0m \u001b[43m        \u001b[49m\u001b[43mdecomposed_optree\u001b[49m\u001b[43m,\u001b[49m\u001b[43m \u001b[49m\u001b[43msignature\u001b[49m\u001b[38;5;241;43m=\u001b[39;49m\u001b[43mbloq\u001b[49m\u001b[38;5;241;43m.\u001b[39;49m\u001b[43msignature\u001b[49m\u001b[43m,\u001b[49m\u001b[43m \u001b[49m\u001b[43min_quregs\u001b[49m\u001b[38;5;241;43m=\u001b[39;49m\u001b[43min_quregs\u001b[49m\u001b[43m,\u001b[49m\u001b[43m \u001b[49m\u001b[43mout_quregs\u001b[49m\u001b[38;5;241;43m=\u001b[39;49m\u001b[43mout_quregs\u001b[49m\n\u001b[1;32m    604\u001b[0m \u001b[43m    \u001b[49m\u001b[43m)\u001b[49m\n\u001b[1;32m    605\u001b[0m \u001b[38;5;28;01mexcept\u001b[39;00m \u001b[38;5;167;01mValueError\u001b[39;00m \u001b[38;5;28;01mas\u001b[39;00m exc:\n\u001b[1;32m    606\u001b[0m     \u001b[38;5;28;01mif\u001b[39;00m \u001b[38;5;124m\"\u001b[39m\u001b[38;5;124mOnly gate operations are supported\u001b[39m\u001b[38;5;124m\"\u001b[39m \u001b[38;5;129;01min\u001b[39;00m \u001b[38;5;28mstr\u001b[39m(exc):\n",
      "File \u001b[0;32m~/Documents/git-repos/QuantumThreatTracker/.venv/lib/python3.12/site-packages/qualtran/cirq_interop/_cirq_to_bloq.py:534\u001b[0m, in \u001b[0;36mcirq_optree_to_cbloq\u001b[0;34m(optree, signature, in_quregs, out_quregs)\u001b[0m\n\u001b[1;32m    529\u001b[0m in_op_quregs: Dict[\u001b[38;5;28mstr\u001b[39m, NDArray[_QReg]] \u001b[38;5;241m=\u001b[39m {\n\u001b[1;32m    530\u001b[0m     reg\u001b[38;5;241m.\u001b[39mname: all_op_quregs[reg\u001b[38;5;241m.\u001b[39mname] \u001b[38;5;28;01mfor\u001b[39;00m reg \u001b[38;5;129;01min\u001b[39;00m bloq\u001b[38;5;241m.\u001b[39msignature\u001b[38;5;241m.\u001b[39mlefts()\n\u001b[1;32m    531\u001b[0m }\n\u001b[1;32m    532\u001b[0m \u001b[38;5;66;03m# 3.2 Find input Soquets, by potentially allocating new Bloq registers corresponding to\u001b[39;00m\n\u001b[1;32m    533\u001b[0m \u001b[38;5;66;03m# input Cirq `in_quregs` and updating the `qreg_to_qvar` mapping.\u001b[39;00m\n\u001b[0;32m--> 534\u001b[0m qvars_in \u001b[38;5;241m=\u001b[39m \u001b[43m_gather_input_soqs\u001b[49m\u001b[43m(\u001b[49m\u001b[43mbb\u001b[49m\u001b[43m,\u001b[49m\u001b[43m \u001b[49m\u001b[43min_op_quregs\u001b[49m\u001b[43m,\u001b[49m\u001b[43m \u001b[49m\u001b[43mqreg_to_qvar\u001b[49m\u001b[43m)\u001b[49m\n\u001b[1;32m    536\u001b[0m \u001b[38;5;66;03m# 3.3 Add Bloq to the `CompositeBloq` compute graph and get corresponding output Soquets.\u001b[39;00m\n\u001b[1;32m    537\u001b[0m qvars_out \u001b[38;5;241m=\u001b[39m bb\u001b[38;5;241m.\u001b[39madd_d(bloq, \u001b[38;5;241m*\u001b[39m\u001b[38;5;241m*\u001b[39mqvars_in)\n",
      "File \u001b[0;32m~/Documents/git-repos/QuantumThreatTracker/.venv/lib/python3.12/site-packages/qualtran/cirq_interop/_cirq_to_bloq.py:326\u001b[0m, in \u001b[0;36m_gather_input_soqs\u001b[0;34m(bb, op_quregs, qreg_to_qvar)\u001b[0m\n\u001b[1;32m    324\u001b[0m flat_soqs: List[Soquet] \u001b[38;5;241m=\u001b[39m []\n\u001b[1;32m    325\u001b[0m \u001b[38;5;28;01mfor\u001b[39;00m qureg \u001b[38;5;129;01min\u001b[39;00m quregs\u001b[38;5;241m.\u001b[39mflatten():\n\u001b[0;32m--> 326\u001b[0m     \u001b[43m_ensure_in_reg_exists\u001b[49m\u001b[43m(\u001b[49m\u001b[43mbb\u001b[49m\u001b[43m,\u001b[49m\u001b[43m \u001b[49m\u001b[43mqureg\u001b[49m\u001b[43m,\u001b[49m\u001b[43m \u001b[49m\u001b[43mqreg_to_qvar\u001b[49m\u001b[43m)\u001b[49m\n\u001b[1;32m    327\u001b[0m     flat_soqs\u001b[38;5;241m.\u001b[39mappend(qreg_to_qvar[qureg])\n\u001b[1;32m    328\u001b[0m qvars_in[reg_name] \u001b[38;5;241m=\u001b[39m np\u001b[38;5;241m.\u001b[39marray(flat_soqs)\u001b[38;5;241m.\u001b[39mreshape(quregs\u001b[38;5;241m.\u001b[39mshape)\n",
      "File \u001b[0;32m~/Documents/git-repos/QuantumThreatTracker/.venv/lib/python3.12/site-packages/qualtran/cirq_interop/_cirq_to_bloq.py:263\u001b[0m, in \u001b[0;36m_ensure_in_reg_exists\u001b[0;34m(bb, in_reg, qreg_to_qvar)\u001b[0m\n\u001b[1;32m    260\u001b[0m \u001b[38;5;250m\u001b[39m\u001b[38;5;124;03m\"\"\"Takes care of qubit allocations, split and joins to ensure `qreg_to_qvar[in_reg]` exists.\"\"\"\u001b[39;00m\n\u001b[1;32m    261\u001b[0m \u001b[38;5;28;01mfrom\u001b[39;00m \u001b[38;5;21;01mqualtran\u001b[39;00m\u001b[38;5;21;01m.\u001b[39;00m\u001b[38;5;21;01mbloqs\u001b[39;00m\u001b[38;5;21;01m.\u001b[39;00m\u001b[38;5;21;01mbookkeeping\u001b[39;00m \u001b[38;5;28;01mimport\u001b[39;00m Cast\n\u001b[0;32m--> 263\u001b[0m all_mapped_qubits \u001b[38;5;241m=\u001b[39m {q \u001b[38;5;28;01mfor\u001b[39;00m qreg \u001b[38;5;129;01min\u001b[39;00m qreg_to_qvar \u001b[38;5;28;01mfor\u001b[39;00m q \u001b[38;5;129;01min\u001b[39;00m qreg\u001b[38;5;241m.\u001b[39mqubits}\n\u001b[1;32m    264\u001b[0m qubits_to_allocate: List[cirq\u001b[38;5;241m.\u001b[39mQid] \u001b[38;5;241m=\u001b[39m [q \u001b[38;5;28;01mfor\u001b[39;00m q \u001b[38;5;129;01min\u001b[39;00m in_reg\u001b[38;5;241m.\u001b[39mqubits \u001b[38;5;28;01mif\u001b[39;00m q \u001b[38;5;129;01mnot\u001b[39;00m \u001b[38;5;129;01min\u001b[39;00m all_mapped_qubits]\n\u001b[1;32m    265\u001b[0m \u001b[38;5;28;01mif\u001b[39;00m qubits_to_allocate:\n",
      "File \u001b[0;32m~/Documents/git-repos/QuantumThreatTracker/.venv/lib/python3.12/site-packages/cirq/ops/named_qubit.py:35\u001b[0m, in \u001b[0;36m_BaseNamedQid.__hash__\u001b[0;34m(self)\u001b[0m\n\u001b[1;32m     32\u001b[0m _comp_key: Optional[\u001b[38;5;28mstr\u001b[39m] \u001b[38;5;241m=\u001b[39m \u001b[38;5;28;01mNone\u001b[39;00m\n\u001b[1;32m     33\u001b[0m _hash: Optional[\u001b[38;5;28mint\u001b[39m] \u001b[38;5;241m=\u001b[39m \u001b[38;5;28;01mNone\u001b[39;00m\n\u001b[0;32m---> 35\u001b[0m \u001b[38;5;28;01mdef\u001b[39;00m \u001b[38;5;21m__hash__\u001b[39m(\u001b[38;5;28mself\u001b[39m) \u001b[38;5;241m-\u001b[39m\u001b[38;5;241m>\u001b[39m \u001b[38;5;28mint\u001b[39m:\n\u001b[1;32m     36\u001b[0m     \u001b[38;5;28;01mif\u001b[39;00m \u001b[38;5;28mself\u001b[39m\u001b[38;5;241m.\u001b[39m_hash \u001b[38;5;129;01mis\u001b[39;00m \u001b[38;5;28;01mNone\u001b[39;00m:\n\u001b[1;32m     37\u001b[0m         \u001b[38;5;28mself\u001b[39m\u001b[38;5;241m.\u001b[39m_hash \u001b[38;5;241m=\u001b[39m \u001b[38;5;28mhash\u001b[39m((\u001b[38;5;28mself\u001b[39m\u001b[38;5;241m.\u001b[39m_name, \u001b[38;5;28mself\u001b[39m\u001b[38;5;241m.\u001b[39m_dimension))\n",
      "\u001b[0;31mKeyboardInterrupt\u001b[0m: "
     ]
    }
   ],
   "source": [
    "alg_controlled_mod_mul = AlgorithmSummary.from_bloq(mod_mul)\n",
    "alg_controlled_mod_mul"
   ]
  },
  {
   "cell_type": "markdown",
   "metadata": {},
   "source": [
    "**Step 5**: Retrieve logical estimates for mod exp from controlled mod mul"
   ]
  },
  {
   "cell_type": "code",
   "execution_count": 34,
   "metadata": {},
   "outputs": [
    {
     "data": {
      "text/plain": [
       "AlgorithmSummary(n_algo_qubits=6143, n_logical_gates=GateCounts(t=0, toffoli=0, cswap=6291456, and_bloq=128786104320, clifford=1030163005440, rotation=0, measurement=128786104320), n_rotation_layers=None)"
      ]
     },
     "execution_count": 34,
     "metadata": {},
     "output_type": "execute_result"
    }
   ],
   "source": [
    "alg_mod_exp = AlgorithmSummary(\n",
    "    n_algo_qubits=alg_controlled_mod_mul.n_algo_qubits,\n",
    "    n_logical_gates=alg_controlled_mod_mul.n_logical_gates * subcircuit_reps,\n",
    ")\n",
    "alg_mod_exp"
   ]
  },
  {
   "cell_type": "markdown",
   "metadata": {},
   "source": [
    "### **OPTION 1**: Physical resource estimates w/ Qualtran"
   ]
  },
  {
   "cell_type": "markdown",
   "metadata": {},
   "source": [
    "**Step 6a**: Create cost model. In qualtran we currently have a choice between the gidney-fowler model, adn the beverland et al model. These can be further customized as per requirements"
   ]
  },
  {
   "cell_type": "code",
   "execution_count": 42,
   "metadata": {},
   "outputs": [
    {
     "data": {
      "text/plain": [
       "PhysicalCostModel(physical_params=PhysicalParameters(physical_error=0.001, cycle_time_us=1.0), data_block=SimpleDataBlock(data_d=27, routing_overhead=0.5), factory=CCZ2TFactory(distillation_l1_d=15, distillation_l2_d=31), qec_scheme=QECScheme(error_rate_scaler=0.1, error_rate_threshold=0.01))"
      ]
     },
     "execution_count": 42,
     "metadata": {},
     "output_type": "execute_result"
    }
   ],
   "source": [
    "# For minimal configuration, you can use a set of defaults from\n",
    "# the literature. Here: Gidney and Fowler (2018).\n",
    "\n",
    "cost_model = PhysicalCostModel.make_gidney_fowler(data_d=27)\n",
    "cost_model"
   ]
  },
  {
   "cell_type": "markdown",
   "metadata": {},
   "source": [
    "**Step 6b:** test resource estimation for a single controlled-mod mul usign a *distance* 25 code with the gidney fowler model."
   ]
  },
  {
   "cell_type": "code",
   "execution_count": 47,
   "metadata": {},
   "outputs": [
    {
     "name": "stdout",
     "output_type": "stream",
     "text": [
      "Duration 1.99 hr \n",
      "Physical Qubits 13,583,374 \n",
      "Error 0.068\n"
     ]
    }
   ],
   "source": [
    "print(\n",
    "    f\"Duration {cost_model.duration_hr(alg_controlled_mod_mul):.2f} hr\",\n",
    "    f\"\\nPhysical Qubits {cost_model.n_phys_qubits(alg_controlled_mod_mul):,d}\",\n",
    "    f\"\\nError {cost_model.error(alg_controlled_mod_mul):.2g}\",\n",
    ")"
   ]
  },
  {
   "cell_type": "markdown",
   "metadata": {},
   "source": [
    "**Step 6c**: Resource estiamte for mod exp in gidney fowler model"
   ]
  },
  {
   "cell_type": "code",
   "execution_count": 48,
   "metadata": {},
   "outputs": [
    {
     "name": "stdout",
     "output_type": "stream",
     "text": [
      "Duration 6099.75 hr \n",
      "Physical Qubits 13,583,374 \n",
      "Error 2.1e+02\n"
     ]
    }
   ],
   "source": [
    "print(\n",
    "    f\"Duration {cost_model.duration_hr(alg_mod_exp):.2f} hr\",\n",
    "    f\"\\nPhysical Qubits {cost_model.n_phys_qubits(alg_mod_exp):,d}\",\n",
    "    f\"\\nError {cost_model.error(alg_mod_exp):.2g}\",\n",
    ")"
   ]
  },
  {
   "cell_type": "markdown",
   "metadata": {},
   "source": [
    "*Note:* As we can see from above, the error is really bad. We potentially a larger distance code or a differernt distillation method. We haven't fully incorporated all of Gidney's techniques yet, so , this cost is bound to go down"
   ]
  },
  {
   "cell_type": "markdown",
   "metadata": {},
   "source": [
    "**Step 7**: function testing many possible combinations of cost models to compute physical resource estimates. We vary the \n",
    "\n",
    "- datablock type (i.e. the layout of logical qubits on teh surface code), \n",
    "- the factory type (CCZ vs T), \n",
    "- the QEC scheme (this takes into account some assumtiposmn abotu the logical noise scaling etc.), and finally \n",
    "- some more concrete params about the physical err rate etc."
   ]
  },
  {
   "cell_type": "code",
   "execution_count": 51,
   "metadata": {},
   "outputs": [],
   "source": [
    "from qualtran.surface_code import CCZ2TFactory, FifteenToOne\n",
    "\n",
    "data_d = 27\n",
    "\n",
    "data_blocks = [\n",
    "    SimpleDataBlock(data_d=data_d),\n",
    "    CompactDataBlock(data_d=data_d),\n",
    "    FastDataBlock(data_d=data_d),\n",
    "]\n",
    "\n",
    "factories = [\n",
    "    CCZ2TFactory(),\n",
    "    FifteenToOne(data_d, data_d, data_d),\n",
    "]\n",
    "\n",
    "schemes = [\n",
    "    QECScheme.make_gidney_fowler(),\n",
    "    QECScheme.make_beverland_et_al(),\n",
    "]\n",
    "\n",
    "phys_params = [\n",
    "    PhysicalParameters.make_beverland_et_al(),\n",
    "    PhysicalParameters.make_beverland_et_al(optimistic_err_rate=True),\n",
    "    PhysicalParameters.make_gidney_fowler(),\n",
    "    PhysicalParameters.make_gidney_fowler(optimistic_err_rate=True),\n",
    "]"
   ]
  },
  {
   "cell_type": "code",
   "execution_count": 54,
   "metadata": {},
   "outputs": [],
   "source": [
    "def compute_physical_estimates(alg, data_block, factory, scheme, phys):\n",
    "    \"\"\"Estimate the runtime and physical qubits required for the algorithm.\"\"\"\n",
    "    model = PhysicalCostModel(\n",
    "        data_block=data_block, factory=factory, qec_scheme=scheme, physical_params=phys\n",
    "    )\n",
    "    duration_hr_estimate = model.duration_hr(alg)\n",
    "    n_physical_qubits_estimate = model.n_phys_qubits(alg)\n",
    "\n",
    "    return {\n",
    "        \"duration_hr_estimate\": duration_hr_estimate,\n",
    "        \"n_physical_qubits_estimate\": n_physical_qubits_estimate,\n",
    "    }"
   ]
  },
  {
   "cell_type": "code",
   "execution_count": 57,
   "metadata": {},
   "outputs": [],
   "source": [
    "duration_hr_estimates = []\n",
    "n_physical_qubits_estimates = []\n",
    "for data_block, factory, scheme, phys in itertools.product(\n",
    "    data_blocks, factories, schemes, phys_params\n",
    "):\n",
    "    costs = compute_physical_estimates(\n",
    "        alg=alg_mod_exp, data_block=data_block, factory=factory, scheme=scheme, phys=phys\n",
    "    )\n",
    "\n",
    "    duration_hr_estimates.append(costs[\"duration_hr_estimate\"])\n",
    "    n_physical_qubits_estimates.append(costs[\"n_physical_qubits_estimate\"])"
   ]
  },
  {
   "cell_type": "code",
   "execution_count": 58,
   "metadata": {},
   "outputs": [
    {
     "data": {
      "image/png": "[encoded data removed]",
      "text/plain": [
       "<Figure size 640x480 with 1 Axes>"
      ]
     },
     "metadata": {},
     "output_type": "display_data"
    }
   ],
   "source": [
    "from matplotlib import pyplot as plt\n",
    "\n",
    "plt.scatter(np.array(n_physical_qubits_estimates) / 1e6, duration_hr_estimates)\n",
    "plt.xlabel(\"# Physical Qubits / million\")\n",
    "plt.ylabel(\"Duration / hr\")\n",
    "plt.tight_layout()"
   ]
  },
  {
   "cell_type": "markdown",
   "metadata": {},
   "source": [
    "#### **Option 2**: Using a combination of Qualtran and Microsoft QRE"
   ]
  },
  {
   "cell_type": "markdown",
   "metadata": {},
   "source": []
  }
 ],
 "metadata": {
  "kernelspec": {
   "display_name": ".venv",
   "language": "python",
   "name": "python3"
  },
  "language_info": {
   "codemirror_mode": {
    "name": "ipython",
    "version": 3
   },
   "file_extension": ".py",
   "mimetype": "text/x-python",
   "name": "python",
   "nbconvert_exporter": "python",
   "pygments_lexer": "ipython3",
   "version": "3.12.7"
  }
 },
 "nbformat": 4,
 "nbformat_minor": 2
}
