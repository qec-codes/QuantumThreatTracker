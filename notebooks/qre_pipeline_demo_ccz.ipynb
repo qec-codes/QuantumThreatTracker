{
 "cells": [
  {
   "cell_type": "code",
   "execution_count": 53,
   "metadata": {},
   "outputs": [],
   "source": [
    "from qsharp.estimator import LogicalCounts\n",
    "from qualtran import Bloq, QUInt\n",
    "from qualtran.bloqs.mod_arithmetic import CModMulK\n",
    "from qualtran.resource_counting import get_cost_value, query_costs, QubitCount\n",
    "from qualtran.surface_code import AlgorithmSummary\n",
    "from qualtran.resource_counting import GateCounts\n",
    "from qualtran.surface_code import PhysicalCostModel\n",
    "from qualtran.surface_code import SimpleDataBlock, CompactDataBlock, FastDataBlock\n",
    "from qualtran.surface_code import LogicalErrorModel, QECScheme\n",
    "from qualtran.surface_code import PhysicalParameters\n",
    "\n",
    "\n",
    "import numpy as np\n",
    "import itertools"
   ]
  },
  {
   "cell_type": "markdown",
   "metadata": {},
   "source": [
    "**Step 1**: Define key size"
   ]
  },
  {
   "cell_type": "code",
   "execution_count": 2,
   "metadata": {},
   "outputs": [],
   "source": [
    "key_size = 2048"
   ]
  },
  {
   "cell_type": "markdown",
   "metadata": {},
   "source": [
    "**Step 2.** Create the Bloq which defines the subcircuit dominating the resource cost of the algorithm. In this case (and most cases) it is the controlled modular multiplier.\n",
    "\n",
    "- `modulus` is the integer to be factored. Since the resource cost is (usually) the same for any $n$-bit integer, for simplicity we take it to be $N = 2^n - 1$.\n",
    "- `multiplicand` is the classically pre-computed constant which is multiplied by the value in the quantum register, i.e., the number $a$ in the quantum computation $\\ket{x} \\mapsto \\ket{ax \\mod N}$.<br>The resource cost of the controlled modular multiplier is also (usually) invariant in the value of $a$. Since $a$ must be coprime to $N$, for simplicity we take it to be $a = N - 1 = 2^n - 2$."
   ]
  },
  {
   "cell_type": "code",
   "execution_count": 3,
   "metadata": {},
   "outputs": [],
   "source": [
    "modulus = 2**key_size - 1\n",
    "multiplicand = 2**key_size - 2\n",
    "\n",
    "mod_mul = CModMulK(dtype=QUInt(key_size), k=multiplicand, mod=modulus)"
   ]
  },
  {
   "cell_type": "markdown",
   "metadata": {},
   "source": [
    "**Step 3.** Compute the number of times the subcircuit is repeated in the entire algorithm. To again match the implementation of [Gidney and Ekerå](https://doi.org/10.22331/q-2021-04-15-433), we take this to be $1.5 n$."
   ]
  },
  {
   "cell_type": "code",
   "execution_count": 4,
   "metadata": {},
   "outputs": [],
   "source": [
    "subcircuit_reps = int(1.5 * key_size)"
   ]
  },
  {
   "cell_type": "markdown",
   "metadata": {},
   "source": [
    "**Step 4.** Convert logical resource estimates from the circuit defined by Qualtran Bloqs into a format that can be input to Microsoft's Azure Quantum Resource Estimator.\n",
    "\n",
    "*Note: this steps takes a while! (About 1 min)*"
   ]
  },
  {
   "cell_type": "code",
   "execution_count": 14,
   "metadata": {},
   "outputs": [],
   "source": [
    "algControlledModMul = AlgorithmSummary.from_bloq(mod_mul)"
   ]
  },
  {
   "cell_type": "code",
   "execution_count": 33,
   "metadata": {},
   "outputs": [
    {
     "data": {
      "text/plain": [
       "AlgorithmSummary(n_algo_qubits=6143, n_logical_gates=GateCounts(t=0, toffoli=0, cswap=2048, and_bloq=41922560, clifford=335339520, rotation=0, measurement=41922560), n_rotation_layers=None)"
      ]
     },
     "execution_count": 33,
     "metadata": {},
     "output_type": "execute_result"
    }
   ],
   "source": [
    "algControlledModMul"
   ]
  },
  {
   "cell_type": "markdown",
   "metadata": {},
   "source": [
    "**Step 5**: Retrieve logical estimates for mod exp from controlled mod mul"
   ]
  },
  {
   "cell_type": "code",
   "execution_count": 34,
   "metadata": {},
   "outputs": [
    {
     "data": {
      "text/plain": [
       "AlgorithmSummary(n_algo_qubits=6143, n_logical_gates=GateCounts(t=0, toffoli=0, cswap=6291456, and_bloq=128786104320, clifford=1030163005440, rotation=0, measurement=128786104320), n_rotation_layers=None)"
      ]
     },
     "execution_count": 34,
     "metadata": {},
     "output_type": "execute_result"
    }
   ],
   "source": [
    "algModExp = AlgorithmSummary(n_algo_qubits=algControlledModMul.n_algo_qubits, n_logical_gates=algControlledModMul.n_logical_gates*subcircuit_reps)\n",
    "algModExp"
   ]
  },
  {
   "cell_type": "markdown",
   "metadata": {},
   "source": [
    "### **OPTION 1**: Physical resource estimates w/ Qualtran"
   ]
  },
  {
   "cell_type": "markdown",
   "metadata": {},
   "source": [
    "**Step 6a**: Create cost model. In qualtran we currently have a choice between the gidney-fowler model, adn the beverland et al model. These can be further customized as per requirements"
   ]
  },
  {
   "cell_type": "code",
   "execution_count": 42,
   "metadata": {},
   "outputs": [
    {
     "data": {
      "text/plain": [
       "PhysicalCostModel(physical_params=PhysicalParameters(physical_error=0.001, cycle_time_us=1.0), data_block=SimpleDataBlock(data_d=27, routing_overhead=0.5), factory=CCZ2TFactory(distillation_l1_d=15, distillation_l2_d=31), qec_scheme=QECScheme(error_rate_scaler=0.1, error_rate_threshold=0.01))"
      ]
     },
     "execution_count": 42,
     "metadata": {},
     "output_type": "execute_result"
    }
   ],
   "source": [
    "# For minimal configuration, you can use a set of defaults from\n",
    "# the literature. Here: Gidney and Fowler (2018).\n",
    "\n",
    "cost_model = PhysicalCostModel.make_gidney_fowler(data_d=27)\n",
    "cost_model"
   ]
  },
  {
   "cell_type": "markdown",
   "metadata": {},
   "source": [
    "**Step 6b:** test resource estimation for a single controlled-mod mul usign a *distance* 25 code with the gidney fowler model."
   ]
  },
  {
   "cell_type": "code",
   "execution_count": 47,
   "metadata": {},
   "outputs": [
    {
     "name": "stdout",
     "output_type": "stream",
     "text": [
      "Duration 1.99 hr \n",
      "Physical Qubits 13,583,374 \n",
      "Error 0.068\n"
     ]
    }
   ],
   "source": [
    "print(\n",
    "    f'Duration {cost_model.duration_hr(algControlledModMul):.2f} hr',\n",
    "    f'\\nPhysical Qubits {cost_model.n_phys_qubits(algControlledModMul):,d}',\n",
    "    f'\\nError {cost_model.error(algControlledModMul):.2g}'\n",
    ")"
   ]
  },
  {
   "cell_type": "markdown",
   "metadata": {},
   "source": [
    "**Step 6c**: Resource estiamte for mod exp in gidney fowler model"
   ]
  },
  {
   "cell_type": "code",
   "execution_count": 48,
   "metadata": {},
   "outputs": [
    {
     "name": "stdout",
     "output_type": "stream",
     "text": [
      "Duration 6099.75 hr \n",
      "Physical Qubits 13,583,374 \n",
      "Error 2.1e+02\n"
     ]
    }
   ],
   "source": [
    "print(\n",
    "    f'Duration {cost_model.duration_hr(algModExp):.2f} hr',\n",
    "    f'\\nPhysical Qubits {cost_model.n_phys_qubits(algModExp):,d}',\n",
    "    f'\\nError {cost_model.error(algModExp):.2g}'\n",
    ")"
   ]
  },
  {
   "cell_type": "markdown",
   "metadata": {},
   "source": [
    "*Note:* As we can see from above, the error is really bad. We potentially a larger distance code or a differernt distillation method. We haven't fully incorporated all of Gidney's techniques yet, so , this cost is bound to go down"
   ]
  },
  {
   "cell_type": "markdown",
   "metadata": {},
   "source": [
    "**Step 7**: function testing many possible combinations of cost models to compute physical resource estimates. We vary the \n",
    "\n",
    "- datablock type (i.e. the layout of logical qubits on teh surface code), \n",
    "- the factory type (CCZ vs T), \n",
    "- the QEC scheme (this takes into account some assumtiposmn abotu the logical noise scaling etc.), and finally \n",
    "- some more concrete params about the physical err rate etc."
   ]
  },
  {
   "cell_type": "code",
   "execution_count": 51,
   "metadata": {},
   "outputs": [],
   "source": [
    "data_d = 27\n",
    "\n",
    "data_blocks = [\n",
    "  SimpleDataBlock(data_d=data_d),\n",
    "  CompactDataBlock(data_d=data_d),\n",
    "  FastDataBlock(data_d=data_d),\n",
    "]\n",
    "\n",
    "from qualtran.surface_code import CCZ2TFactory, FifteenToOne\n",
    "factories = [\n",
    "    CCZ2TFactory(),\n",
    "    FifteenToOne(data_d, data_d, data_d),\n",
    "]\n",
    "\n",
    "schemes = [\n",
    "    QECScheme.make_gidney_fowler(),\n",
    "    QECScheme.make_beverland_et_al(),\n",
    "]\n",
    "\n",
    "phys_params = [\n",
    "    PhysicalParameters.make_beverland_et_al(),\n",
    "    PhysicalParameters.make_beverland_et_al(optimistic_err_rate=True),\n",
    "    PhysicalParameters.make_gidney_fowler(),\n",
    "    PhysicalParameters.make_gidney_fowler(optimistic_err_rate=True),\n",
    "]"
   ]
  },
  {
   "cell_type": "code",
   "execution_count": 54,
   "metadata": {},
   "outputs": [],
   "source": [
    "def compute_physical_estimates(alg, data_block, factory, scheme, phys):\n",
    "  model = PhysicalCostModel(data_block=data_block, factory=factory, qec_scheme=scheme, physical_params=phys)\n",
    "  duration_hr_estimate = model.duration_hr(alg)\n",
    "  n_physical_qubits_estimate = model.n_phys_qubits(alg)\n",
    "  \n",
    "  return {\n",
    "    'duration_hr_estimate': duration_hr_estimate,\n",
    "    'n_physical_qubits_estimate': n_physical_qubits_estimate,\n",
    "  }\n",
    "    "
   ]
  },
  {
   "cell_type": "code",
   "execution_count": 57,
   "metadata": {},
   "outputs": [],
   "source": [
    "duration_hr_estimates = []\n",
    "n_physical_qubits_estimates = []\n",
    "for data_block, factory, scheme, phys in itertools.product(data_blocks, factories, schemes, phys_params):\n",
    "    costs = compute_physical_estimates(alg=algModExp, data_block=data_block, factory=factory, scheme=scheme, phys=phys)\n",
    "\n",
    "    duration_hr_estimates.append(costs['duration_hr_estimate'])\n",
    "    n_physical_qubits_estimates.append(costs['n_physical_qubits_estimate'])\n",
    "\n",
    "    "
   ]
  },
  {
   "cell_type": "code",
   "execution_count": 58,
   "metadata": {},
   "outputs": [
    {
     "data": {
      "image/png": "[encoded data removed]",
      "text/plain": [
       "<Figure size 640x480 with 1 Axes>"
      ]
     },
     "metadata": {},
     "output_type": "display_data"
    }
   ],
   "source": [
    "from matplotlib import pyplot as plt\n",
    "import numpy as np\n",
    "plt.scatter(np.array(n_physical_qubits_estimates)/1e6, duration_hr_estimates)\n",
    "plt.xlabel('# Physical Qubits / million')\n",
    "plt.ylabel('Duration / hr')\n",
    "plt.tight_layout()"
   ]
  },
  {
   "cell_type": "markdown",
   "metadata": {},
   "source": [
    "#### **Option 2**: Using a combination of Qualtran and Microsoft QRE"
   ]
  },
  {
   "cell_type": "markdown",
   "metadata": {},
   "source": []
  }
 ],
 "metadata": {
  "kernelspec": {
   "display_name": ".venv",
   "language": "python",
   "name": "python3"
  },
  "language_info": {
   "codemirror_mode": {
    "name": "ipython",
    "version": 3
   },
   "file_extension": ".py",
   "mimetype": "text/x-python",
   "name": "python",
   "nbconvert_exporter": "python",
   "pygments_lexer": "ipython3",
   "version": "3.12.8"
  }
 },
 "nbformat": 4,
 "nbformat_minor": 2
}
